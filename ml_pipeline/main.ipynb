{
 "cells": [
  {
   "cell_type": "markdown",
   "id": "e9d1ba95-cf4a-4d18-90d4-3a0ff9a61e04",
   "metadata": {
    "tags": []
   },
   "source": [
    "# 1 - Setup\n",
    "This section includes all necessary imports, global variables, and configurations needed to set up the notebook for the rest of the project. It defines the default styles and parameters for plots, imports necessary libraries and sets any constants and configurations. The setup section also initializes any tools and services that will be used throughout the notebook."
   ]
  },
  {
   "cell_type": "markdown",
   "id": "924525ae-b885-47c4-b859-ea82c29c57ae",
   "metadata": {
    "tags": []
   },
   "source": [
    "## 1-1 - Imports"
   ]
  },
  {
   "cell_type": "code",
   "execution_count": 1,
   "id": "9bf18964-9b87-4682-8cb0-664d4829f11c",
   "metadata": {
    "tags": []
   },
   "outputs": [],
   "source": [
    "# Import any necessary packages and libraries for the project\n",
    "# Built-in libraries\n",
    "from collections import defaultdict\n",
    "import pickle\n",
    "import random\n",
    "import os\n",
    "import warnings\n",
    "\n",
    "# Data analysis and visualization libraries\n",
    "import pandas as pd\n",
    "import numpy as np\n",
    "import matplotlib.pyplot as plt \n",
    "import seaborn as sns\n",
    "\n",
    "# Machine learning libraries\n",
    "import optuna\n",
    "import mlflow\n",
    "\n",
    "# Sklearn algorithms\n",
    "from sklearn.feature_extraction.text import TfidfVectorizer\n",
    "from sklearn.preprocessing import LabelEncoder\n",
    "from sklearn.metrics.pairwise import cosine_similarity\n",
    "from sklearn.cluster import KMeans\n",
    "\n",
    "# Surprise algorithms\n",
    "from surprise import Dataset, PredictionImpossible, Reader, accuracy\n",
    "from surprise.model_selection import cross_validate, LeaveOneOut, train_test_split\n",
    "from surprise.prediction_algorithms.random_pred import NormalPredictor\n",
    "from surprise.prediction_algorithms.baseline_only import BaselineOnly\n",
    "from surprise.prediction_algorithms.knns import KNNBasic, KNNWithMeans, KNNWithZScore, KNNBaseline\n",
    "from surprise.prediction_algorithms.matrix_factorization import SVD, SVDpp\n",
    "from surprise.prediction_algorithms.slope_one import SlopeOne \n",
    "from surprise.prediction_algorithms.co_clustering import CoClustering\n",
    "\n",
    "# Other libraries\n",
    "from prettytable import PrettyTable"
   ]
  },
  {
   "cell_type": "markdown",
   "id": "04ca9af5-4d72-48d3-b7a1-6d8db0098347",
   "metadata": {
    "jp-MarkdownHeadingCollapsed": true,
    "tags": []
   },
   "source": [
    "## 1-2 - Globals"
   ]
  },
  {
   "cell_type": "code",
   "execution_count": 2,
   "id": "cf791b3d-d65c-47b5-8b1c-f41f9725a1e1",
   "metadata": {
    "tags": []
   },
   "outputs": [],
   "source": [
    "# Define any global variables that you will be using throughout the notebook\n",
    "# File paths and directories\n",
    "DATA_DIR = \"/app/data\"\n",
    "ANIME_DATA = os.path.join(DATA_DIR, \"anime.csv\")\n",
    "RATING_DATA = os.path.join(DATA_DIR, \"rating.csv\")\n",
    "BENCHMARK_W_MINIMUM = os.path.join(DATA_DIR, \"test_w_min_rating_benchmark.csv\")\n",
    "BENCHMARK_WO_MINIMUM = os.path.join(DATA_DIR, \"test_wo_min_rating_benchmark.csv\")\n",
    "PKL_MODEL_DIR = os.path.join(DATA_DIR, \"pkl_model\")\n",
    "\n",
    "# Default values and thresholds\n",
    "FIG_SIZE = (15, 8)\n",
    "TOP_N = 10\n",
    "NB_CLUSTER = 10\n",
    "THRESHOLD = 6\n",
    "USER_ID = 244\n",
    "MAX_USER_RATING = 500\n",
    "MAX_RATINGS_PER_ANIME = 5000\n",
    "MIN_RATING = 100\n",
    "WITH_MINIMUM = True\n",
    "\n",
    "# MLflow & optuna configuration\n",
    "OPTUNA_DB = \"sqlite:///db.sqlite3\"\n",
    "EXPERIMENT = \"p_test_w_min_rating\" # _wo_min_rating\n",
    "N_TRIAL = 1\n",
    "PATIENCE = 2"
   ]
  },
  {
   "cell_type": "markdown",
   "id": "9099af5f-0fc0-40be-bcad-ac8fc7721773",
   "metadata": {
    "jp-MarkdownHeadingCollapsed": true,
    "tags": []
   },
   "source": [
    "## 1-3 - Style"
   ]
  },
  {
   "cell_type": "code",
   "execution_count": 3,
   "id": "ad5e5273-3c7d-4c22-b8a3-23409800685f",
   "metadata": {
    "jupyter": {
     "source_hidden": true
    },
    "tags": []
   },
   "outputs": [],
   "source": [
    "def set_default(\n",
    "    style: str='darkgrid',\n",
    "    figsize: tuple=FIG_SIZE,\n",
    "    dpi: int=100):\n",
    "    \"\"\"\n",
    "    Set default seaborn style, figure size, and dpi.\n",
    "\n",
    "    Args:\n",
    "    - style (str): Name of seaborn style to use (default is 'darkgrid').\n",
    "    - figsize (tuple): Figure size in inches as a tuple (default is FIG_SIZE).\n",
    "    - dpi (int): Dots per inch for figure resolution (default is 100).\n",
    "\n",
    "    Returns:\n",
    "    None\n",
    "    \"\"\"\n",
    "    sns.set_style(style)\n",
    "    # Set figure size and dpi\n",
    "    sns.set(rc={'figure.figsize':figsize, 'figure.dpi':dpi})"
   ]
  },
  {
   "cell_type": "code",
   "execution_count": 4,
   "id": "857da943-0085-443f-9131-62398bced83b",
   "metadata": {
    "jupyter": {
     "source_hidden": true
    },
    "tags": []
   },
   "outputs": [],
   "source": [
    "# Define any custom styles and formatting for the notebook\n",
    "%matplotlib inline\n",
    "set_default()"
   ]
  },
  {
   "cell_type": "markdown",
   "id": "b0de68cb-f3e8-407e-bb59-f903bcb9ad94",
   "metadata": {
    "jp-MarkdownHeadingCollapsed": true,
    "tags": []
   },
   "source": [
    "## 1-4 - Dashboard"
   ]
  },
  {
   "cell_type": "code",
   "execution_count": 5,
   "id": "851d0e29-e33b-4c60-aabc-ab860d5ddffd",
   "metadata": {
    "jupyter": {
     "source_hidden": true
    },
    "tags": []
   },
   "outputs": [],
   "source": [
    "# Create an instance of the MlflowClient class to communicate with the tracking server\n",
    "client = mlflow.MlflowClient()\n",
    "\n",
    "# To view the Mlflow dashboard, run the command below in the terminal:\n",
    "# mlflow ui --host localhost --port 5002\n",
    "# This will start the dashboard on localhost:5002, allowing you to view your experiments and runs in a web interface.\n",
    "\n",
    "# To view the Optuna dashboard, run the command below in the terminal:\n",
    "# optuna-dashboard sqlite:///db.sqlite3\n",
    "# This will start the dashboard on 127.0.0.1:8080, allowing you to view your hyperparameters tuning and runs in a web interface."
   ]
  },
  {
   "cell_type": "markdown",
   "id": "0a026919-184d-4a73-afcc-5c6facdab9a5",
   "metadata": {
    "jp-MarkdownHeadingCollapsed": true,
    "tags": []
   },
   "source": [
    "# 2 - Load data\n",
    "This section is dedicated to loading the data required for the project. The section then uses the 'load_csv' method to read the anime and rating data from CSV files and store them in Pandas dataframes. A copy of each dataframe is also created for exploratory purposes, to prevent any modifications to the original dataframes. \n"
   ]
  },
  {
   "cell_type": "code",
   "execution_count": 6,
   "id": "797d509f-7c73-41e5-8cfa-c6eadd3473e5",
   "metadata": {
    "jupyter": {
     "source_hidden": true
    },
    "tags": []
   },
   "outputs": [],
   "source": [
    "def load_csv(path: str) -> pd.DataFrame:\n",
    "    \"\"\"\n",
    "    Load a CSV file as a pandas DataFrame.\n",
    "\n",
    "    Args:\n",
    "    - path (str): The path to the CSV file.\n",
    "\n",
    "    Returns:\n",
    "    - pd.DataFrame: A pandas DataFrame containing the CSV data.\n",
    "\n",
    "    Raises:\n",
    "    - FileNotFoundError: If the file is not found at the specified path.\n",
    "\n",
    "    \"\"\"\n",
    "    try:\n",
    "        return pd.read_csv(path)\n",
    "    except FileNotFoundError:\n",
    "        print(\"File not found\")"
   ]
  },
  {
   "cell_type": "code",
   "execution_count": 7,
   "id": "8e5385cf-6f63-4106-a79e-c9eaad811703",
   "metadata": {
    "tags": []
   },
   "outputs": [],
   "source": [
    "anime_df = load_csv(ANIME_DATA)"
   ]
  },
  {
   "cell_type": "code",
   "execution_count": 8,
   "id": "03d15ff4-8767-4c50-b1fc-ff248753ce79",
   "metadata": {
    "tags": []
   },
   "outputs": [],
   "source": [
    "rating_df = load_csv(RATING_DATA)"
   ]
  },
  {
   "cell_type": "code",
   "execution_count": 9,
   "id": "9b8f9d0c-e01b-4b6e-a657-bc0bc8216d7f",
   "metadata": {
    "tags": []
   },
   "outputs": [],
   "source": [
    "# Create copy of anime and rating dataframes for exploratory analysis\n",
    "anime = anime_df.copy()\n",
    "rating = rating_df.copy()"
   ]
  },
  {
   "cell_type": "markdown",
   "id": "65aca12b-ac47-4d49-9fef-2c77fb083061",
   "metadata": {
    "jp-MarkdownHeadingCollapsed": true,
    "tags": []
   },
   "source": [
    "# 3 - Exploratory Data Analysis (EDA)\n",
    "In this section, we will explore the datasets and gain a deeper understanding of the characteristics of the data we're working with. \n",
    "We will visualize the distribution of the ratings, explore relationships between the features, and identify any patterns or outliers in the data. \n",
    "This step is critical to identify any issues with the data and inform our modeling decisions later on."
   ]
  },
  {
   "cell_type": "code",
   "execution_count": 10,
   "id": "147415d2-0d33-4caa-b8fb-80f5591b7a91",
   "metadata": {
    "jupyter": {
     "source_hidden": true
    },
    "tags": []
   },
   "outputs": [],
   "source": [
    "def display_distribution(\n",
    "    df: pd.DataFrame,\n",
    "    column_name: str,\n",
    "    density_plot: bool=False,\n",
    "    figsize: tuple[int, int]=FIG_SIZE\n",
    ") -> None:\n",
    "    \"\"\"\n",
    "    Displays a distribution plot of the specified column in the given DataFrame.\n",
    "\n",
    "    Args:\n",
    "    - df (pd.DataFrame): The DataFrame to plot.\n",
    "    - column_name (str): The name of the column to plot.\n",
    "    - ensity_plot (bool, optional): Whether to display a density plot instead of a histogram. Defaults to False.\n",
    "    - figsize (Tuple[int, int], optional): The size of the figure to display. Defaults to FIG_SIZE.\n",
    "\n",
    "    Returns:\n",
    "    None\n",
    "    \"\"\"\n",
    "    if density_plot:\n",
    "        # Create a kernel density estimate plot\n",
    "        sns.kdeplot(df[column_name])\n",
    "    else:\n",
    "        # Create a histogram plot\n",
    "        sns.displot(df[column_name], height=figsize[1], aspect=figsize[0]/figsize[1])\n",
    "    plt.xlabel(column_name)\n",
    "    plt.ylabel('Frequency')\n",
    "    plt.title(f'Distribution of {column_name}')\n",
    "    plt.show()"
   ]
  },
  {
   "cell_type": "markdown",
   "id": "6566c7fc-d153-429b-97ee-02951b0804ca",
   "metadata": {
    "tags": []
   },
   "source": [
    "## 3-1 - Anime"
   ]
  },
  {
   "cell_type": "code",
   "execution_count": 11,
   "id": "79f19afb-3493-47bb-acef-4f532e2589c5",
   "metadata": {
    "jupyter": {
     "source_hidden": true
    },
    "tags": []
   },
   "outputs": [],
   "source": [
    "def display_anime_info():\n",
    "    \"\"\"\n",
    "    Displays information about the anime dataframe columns.\n",
    "\n",
    "    Args:\n",
    "    None\n",
    "\n",
    "    Returns:\n",
    "    None\n",
    "    \"\"\"\n",
    "    table = PrettyTable()\n",
    "    table.field_names = [\"Column\", \"Description\"]\n",
    "    table.add_row(['anime_id', 'myanimelist.net\\'s unique id identifying an anime'])\n",
    "    table.add_row(['name', 'full name of anime'])\n",
    "    table.add_row(['genre', 'comma separated list of genres for this anime'])\n",
    "    table.add_row(['type', 'movie, TV, OVA, etc'])\n",
    "    table.add_row(['episodes', 'how many episodes in this show. (1 if movie)'])\n",
    "    table.add_row(['rating', 'average rating out of 10 for this anime'])\n",
    "    table.add_row(['members', 'number of community members that are in this anime\\'s \"group\"'])\n",
    "    print(table)"
   ]
  },
  {
   "cell_type": "code",
   "execution_count": 12,
   "id": "5909859a-313b-46fe-b295-cf8682c5c5df",
   "metadata": {
    "tags": []
   },
   "outputs": [
    {
     "data": {
      "text/html": [
       "<div>\n",
       "<style scoped>\n",
       "    .dataframe tbody tr th:only-of-type {\n",
       "        vertical-align: middle;\n",
       "    }\n",
       "\n",
       "    .dataframe tbody tr th {\n",
       "        vertical-align: top;\n",
       "    }\n",
       "\n",
       "    .dataframe thead th {\n",
       "        text-align: right;\n",
       "    }\n",
       "</style>\n",
       "<table border=\"1\" class=\"dataframe\">\n",
       "  <thead>\n",
       "    <tr style=\"text-align: right;\">\n",
       "      <th></th>\n",
       "      <th>anime_id</th>\n",
       "      <th>name</th>\n",
       "      <th>genre</th>\n",
       "      <th>type</th>\n",
       "      <th>episodes</th>\n",
       "      <th>rating</th>\n",
       "      <th>members</th>\n",
       "    </tr>\n",
       "  </thead>\n",
       "  <tbody>\n",
       "    <tr>\n",
       "      <th>0</th>\n",
       "      <td>32281</td>\n",
       "      <td>Kimi no Na wa.</td>\n",
       "      <td>Drama, Romance, School, Supernatural</td>\n",
       "      <td>Movie</td>\n",
       "      <td>1</td>\n",
       "      <td>9.37</td>\n",
       "      <td>200630</td>\n",
       "    </tr>\n",
       "    <tr>\n",
       "      <th>1</th>\n",
       "      <td>5114</td>\n",
       "      <td>Fullmetal Alchemist: Brotherhood</td>\n",
       "      <td>Action, Adventure, Drama, Fantasy, Magic, Mili...</td>\n",
       "      <td>TV</td>\n",
       "      <td>64</td>\n",
       "      <td>9.26</td>\n",
       "      <td>793665</td>\n",
       "    </tr>\n",
       "    <tr>\n",
       "      <th>2</th>\n",
       "      <td>28977</td>\n",
       "      <td>Gintama°</td>\n",
       "      <td>Action, Comedy, Historical, Parody, Samurai, S...</td>\n",
       "      <td>TV</td>\n",
       "      <td>51</td>\n",
       "      <td>9.25</td>\n",
       "      <td>114262</td>\n",
       "    </tr>\n",
       "    <tr>\n",
       "      <th>3</th>\n",
       "      <td>9253</td>\n",
       "      <td>Steins;Gate</td>\n",
       "      <td>Sci-Fi, Thriller</td>\n",
       "      <td>TV</td>\n",
       "      <td>24</td>\n",
       "      <td>9.17</td>\n",
       "      <td>673572</td>\n",
       "    </tr>\n",
       "    <tr>\n",
       "      <th>4</th>\n",
       "      <td>9969</td>\n",
       "      <td>Gintama&amp;#039;</td>\n",
       "      <td>Action, Comedy, Historical, Parody, Samurai, S...</td>\n",
       "      <td>TV</td>\n",
       "      <td>51</td>\n",
       "      <td>9.16</td>\n",
       "      <td>151266</td>\n",
       "    </tr>\n",
       "  </tbody>\n",
       "</table>\n",
       "</div>"
      ],
      "text/plain": [
       "   anime_id                              name  \\\n",
       "0     32281                    Kimi no Na wa.   \n",
       "1      5114  Fullmetal Alchemist: Brotherhood   \n",
       "2     28977                          Gintama°   \n",
       "3      9253                       Steins;Gate   \n",
       "4      9969                     Gintama&#039;   \n",
       "\n",
       "                                               genre   type episodes  rating  \\\n",
       "0               Drama, Romance, School, Supernatural  Movie        1    9.37   \n",
       "1  Action, Adventure, Drama, Fantasy, Magic, Mili...     TV       64    9.26   \n",
       "2  Action, Comedy, Historical, Parody, Samurai, S...     TV       51    9.25   \n",
       "3                                   Sci-Fi, Thriller     TV       24    9.17   \n",
       "4  Action, Comedy, Historical, Parody, Samurai, S...     TV       51    9.16   \n",
       "\n",
       "   members  \n",
       "0   200630  \n",
       "1   793665  \n",
       "2   114262  \n",
       "3   673572  \n",
       "4   151266  "
      ]
     },
     "execution_count": 12,
     "metadata": {},
     "output_type": "execute_result"
    }
   ],
   "source": [
    "anime.head() "
   ]
  },
  {
   "cell_type": "code",
   "execution_count": 13,
   "id": "f7e971a9-d7f1-4698-95bf-d23af9e7774b",
   "metadata": {
    "tags": []
   },
   "outputs": [
    {
     "name": "stdout",
     "output_type": "stream",
     "text": [
      "+----------+--------------------------------------------------------------+\n",
      "|  Column  |                         Description                          |\n",
      "+----------+--------------------------------------------------------------+\n",
      "| anime_id |       myanimelist.net's unique id identifying an anime       |\n",
      "|   name   |                      full name of anime                      |\n",
      "|  genre   |        comma separated list of genres for this anime         |\n",
      "|   type   |                     movie, TV, OVA, etc                      |\n",
      "| episodes |         how many episodes in this show. (1 if movie)         |\n",
      "|  rating  |           average rating out of 10 for this anime            |\n",
      "| members  | number of community members that are in this anime's \"group\" |\n",
      "+----------+--------------------------------------------------------------+\n"
     ]
    }
   ],
   "source": [
    "display_anime_info()"
   ]
  },
  {
   "cell_type": "code",
   "execution_count": 14,
   "id": "423e64e2-bf1e-492c-8739-85f6e881aaa0",
   "metadata": {
    "tags": []
   },
   "outputs": [
    {
     "name": "stdout",
     "output_type": "stream",
     "text": [
      "<class 'pandas.core.frame.DataFrame'>\n",
      "RangeIndex: 12294 entries, 0 to 12293\n",
      "Data columns (total 7 columns):\n",
      " #   Column    Non-Null Count  Dtype  \n",
      "---  ------    --------------  -----  \n",
      " 0   anime_id  12294 non-null  int64  \n",
      " 1   name      12294 non-null  object \n",
      " 2   genre     12232 non-null  object \n",
      " 3   type      12269 non-null  object \n",
      " 4   episodes  12294 non-null  object \n",
      " 5   rating    12064 non-null  float64\n",
      " 6   members   12294 non-null  int64  \n",
      "dtypes: float64(1), int64(2), object(4)\n",
      "memory usage: 672.5+ KB\n"
     ]
    }
   ],
   "source": [
    "anime.info()"
   ]
  },
  {
   "cell_type": "markdown",
   "id": "484f715f-0129-4aed-88ec-6fdd1038d183",
   "metadata": {},
   "source": [
    "We loaded the anime data and examined its structure and content. We now have a good understanding of what the data represents and the data types of each column. However, we can see from the output of anime.info() that there are some missing values in the *genre*, *type*, and *rating* columns, which may need to be addressed before proceeding with analysis."
   ]
  },
  {
   "cell_type": "markdown",
   "id": "9d8737c7-3591-41c5-8252-271bc1a7a446",
   "metadata": {
    "jp-MarkdownHeadingCollapsed": true,
    "tags": []
   },
   "source": [
    "### Modify *episodes*\n",
    "We can see that *episodes* is an object instead of a int, let's see:"
   ]
  },
  {
   "cell_type": "code",
   "execution_count": 15,
   "id": "d2af825f-7671-4b82-83b5-82c053fd55dc",
   "metadata": {
    "tags": []
   },
   "outputs": [
    {
     "data": {
      "text/plain": [
       "dtype('O')"
      ]
     },
     "execution_count": 15,
     "metadata": {},
     "output_type": "execute_result"
    }
   ],
   "source": [
    "anime.episodes.dtype"
   ]
  },
  {
   "cell_type": "code",
   "execution_count": 16,
   "id": "4e45cc81-8de7-47ca-8881-98a39f4abfd2",
   "metadata": {
    "tags": []
   },
   "outputs": [
    {
     "data": {
      "text/plain": [
       "array(['1', '64', '51', '24', '10', '148', '110', '13', '201', '25', '22',\n",
       "       '75', '4', '26', '12', '27', '43', '74', '37', '2', '11', '99',\n",
       "       'Unknown', '39', '101', '47', '50', '62', '33', '112', '23', '3',\n",
       "       '94', '6', '8', '14', '7', '40', '15', '203', '77', '291', '120',\n",
       "       '102', '96', '38', '79', '175', '103', '70', '153', '45', '5',\n",
       "       '21', '63', '52', '28', '145', '36', '69', '60', '178', '114',\n",
       "       '35', '61', '34', '109', '20', '9', '49', '366', '97', '48', '78',\n",
       "       '358', '155', '104', '113', '54', '167', '161', '42', '142', '31',\n",
       "       '373', '220', '46', '195', '17', '1787', '73', '147', '127', '16',\n",
       "       '19', '98', '150', '76', '53', '124', '29', '115', '224', '44',\n",
       "       '58', '93', '154', '92', '67', '172', '86', '30', '276', '59',\n",
       "       '72', '330', '41', '105', '128', '137', '56', '55', '65', '243',\n",
       "       '193', '18', '191', '180', '91', '192', '66', '182', '32', '164',\n",
       "       '100', '296', '694', '95', '68', '117', '151', '130', '87', '170',\n",
       "       '119', '84', '108', '156', '140', '331', '305', '300', '510',\n",
       "       '200', '88', '1471', '526', '143', '726', '136', '1818', '237',\n",
       "       '1428', '365', '163', '283', '71', '260', '199', '225', '312',\n",
       "       '240', '1306', '1565', '773', '1274', '90', '475', '263', '83',\n",
       "       '85', '1006', '80', '162', '132', '141', '125'], dtype=object)"
      ]
     },
     "execution_count": 16,
     "metadata": {},
     "output_type": "execute_result"
    }
   ],
   "source": [
    "anime.episodes.unique()"
   ]
  },
  {
   "cell_type": "code",
   "execution_count": 17,
   "id": "b742dca6-34d0-43de-90f8-0f7e345c4c0b",
   "metadata": {
    "jupyter": {
     "source_hidden": true
    },
    "tags": []
   },
   "outputs": [],
   "source": [
    "def change_episodes_to_int(df: pd.DataFrame) -> pd.DataFrame:\n",
    "    \"\"\"\n",
    "    Changes the data type of the 'episodes' column in a Pandas DataFrame\n",
    "    from object to int. 'Unknown' values are replaced with NaN, and NaN\n",
    "    values are filled with -1 before conversion to int.\n",
    "    \n",
    "    Args:\n",
    "    - df (pd.DataFrame): The DataFrame to modify.\n",
    "    \n",
    "    Returns:\n",
    "    - pd.DataFrame: The modified DataFrame.\n",
    "    \"\"\"\n",
    "    # Replace 'Unknown' values with NaN\n",
    "    df['episodes'] = df['episodes'].replace('Unknown', np.nan)\n",
    "    # Fill in NaN values with -1\n",
    "    df['episodes'] = df['episodes'].fillna(-1)\n",
    "    # Convert episodes to int data type\n",
    "    df['episodes'] = df['episodes'].astype(int)\n",
    "    return df"
   ]
  },
  {
   "cell_type": "code",
   "execution_count": 18,
   "id": "3d754365-f1aa-4336-962c-0476fc90f332",
   "metadata": {
    "tags": []
   },
   "outputs": [],
   "source": [
    "anime = change_episodes_to_int(anime)"
   ]
  },
  {
   "cell_type": "markdown",
   "id": "6acccea1-b81b-4f37-a052-0788c4e9592c",
   "metadata": {
    "tags": []
   },
   "source": [
    "### Modify *genres*\n",
    "There seems to be a large number of combinations of genre, it would be interesting to group the genre:"
   ]
  },
  {
   "cell_type": "code",
   "execution_count": 19,
   "id": "57832ed2-8d2a-4cd0-8963-55fbf9b986fe",
   "metadata": {
    "tags": []
   },
   "outputs": [
    {
     "name": "stdout",
     "output_type": "stream",
     "text": [
      "<class 'pandas.core.series.Series'>\n",
      "RangeIndex: 12294 entries, 0 to 12293\n",
      "Series name: genre\n",
      "Non-Null Count  Dtype \n",
      "--------------  ----- \n",
      "12232 non-null  object\n",
      "dtypes: object(1)\n",
      "memory usage: 96.2+ KB\n"
     ]
    }
   ],
   "source": [
    "anime.genre.info()"
   ]
  },
  {
   "cell_type": "code",
   "execution_count": 20,
   "id": "4ce4b3f8-901a-45cc-9efd-c31c0c5431e0",
   "metadata": {
    "tags": []
   },
   "outputs": [
    {
     "data": {
      "text/plain": [
       "array(['Drama, Romance, School, Supernatural',\n",
       "       'Action, Adventure, Drama, Fantasy, Magic, Military, Shounen',\n",
       "       'Action, Comedy, Historical, Parody, Samurai, Sci-Fi, Shounen',\n",
       "       ..., 'Hentai, Sports', 'Drama, Romance, School, Yuri',\n",
       "       'Hentai, Slice of Life'], dtype=object)"
      ]
     },
     "execution_count": 20,
     "metadata": {},
     "output_type": "execute_result"
    }
   ],
   "source": [
    "anime.genre.unique()"
   ]
  },
  {
   "cell_type": "code",
   "execution_count": 21,
   "id": "0429f78e-79e3-4227-b2ff-5dd30b74167c",
   "metadata": {
    "tags": []
   },
   "outputs": [
    {
     "data": {
      "text/plain": [
       "3265"
      ]
     },
     "execution_count": 21,
     "metadata": {},
     "output_type": "execute_result"
    }
   ],
   "source": [
    "anime.genre.unique().size"
   ]
  },
  {
   "cell_type": "markdown",
   "id": "208880f0-3d20-4571-a817-946681f6e9a1",
   "metadata": {},
   "source": [
    "There is 3265 genre! That's to much. Let's juste create 10 categories with clustering method:"
   ]
  },
  {
   "cell_type": "code",
   "execution_count": 22,
   "id": "fde9fbc3-6b75-4ebb-8b4e-0e9943eb25c5",
   "metadata": {
    "jupyter": {
     "source_hidden": true
    },
    "tags": []
   },
   "outputs": [],
   "source": [
    "def cluster_anime(df: pd.DataFrame, nb_cluster: int = NB_CLUSTER) -> pd.DataFrame:\n",
    "    \"\"\"\n",
    "    Cluster anime data based on their genres using K-means algorithm with the given number of clusters.\n",
    "\n",
    "    Args:\n",
    "    - df (pd.DataFrame): The input DataFrame to cluster.\n",
    "    - nb_cluster (int): The number of clusters to create. Default is 10.\n",
    "\n",
    "    Returns:\n",
    "    - pd.DataFrame: A new DataFrame with added 'cluster' and 'cluster_name' columns that represent\n",
    "                    the cluster label and the cluster name of each anime, respectively.\n",
    "    \"\"\"\n",
    "    # Replace missing values with an empty string\n",
    "    df['genre'].fillna('', inplace=True)\n",
    "    \n",
    "    # Create a TfidfVectorizer object with stop words removed\n",
    "    tfidf = TfidfVectorizer(stop_words='english')\n",
    "    \n",
    "    # Transform the genre column of the anime dataframe into a sparse matrix of TF-IDF features\n",
    "    X = tfidf.fit_transform(df['genre'])\n",
    "    \n",
    "    # Apply K-means with the given number of clusters\n",
    "    kmeans = KMeans(n_clusters=nb_cluster, random_state=0, n_init=nb_cluster)\n",
    "    kmeans.fit(X)\n",
    "    \n",
    "    # Retrieve cluster labels for each genre\n",
    "    labels = kmeans.labels_\n",
    "    \n",
    "    # Find the most representative genres for each cluster\n",
    "    top_genres = []\n",
    "    for i in range(nb_cluster):\n",
    "        cluster_genres = df.iloc[labels == i]['genre'].str.cat(sep=',').split(',')\n",
    "        genre_counts = pd.Series(cluster_genres).value_counts()\n",
    "        top_genre = genre_counts.index[0]\n",
    "        top_genres.append(top_genre)\n",
    "        \n",
    "    # Associate each label value with a cluster name based on the most representative gender\n",
    "    label_names = {}\n",
    "    for i in range(nb_cluster):\n",
    "        label_names[i] = top_genres[i]\n",
    "        \n",
    "    # Add cluster labels to the initial dataframe\n",
    "    df['cluster'] = labels\n",
    "    \n",
    "    # Replace numeric cluster labels with specific cluster names\n",
    "    df['cluster_name'] = df['cluster'].map(label_names)\n",
    "    \n",
    "    return df"
   ]
  },
  {
   "cell_type": "code",
   "execution_count": 23,
   "id": "86d3460f-42da-430e-b6f2-8a50128a1964",
   "metadata": {
    "tags": []
   },
   "outputs": [],
   "source": [
    "anime = cluster_anime(anime)"
   ]
  },
  {
   "cell_type": "markdown",
   "id": "91fad45d-0ef5-4038-91c9-997812eca749",
   "metadata": {
    "jp-MarkdownHeadingCollapsed": true,
    "tags": []
   },
   "source": [
    "### 3-1-1 - Visualize some distributions"
   ]
  },
  {
   "cell_type": "code",
   "execution_count": 24,
   "id": "73956866-9503-47af-b5ed-5c0da3e79d77",
   "metadata": {
    "tags": []
   },
   "outputs": [
    {
     "data": {
      "image/png": "[encoded data removed]",
      "text/plain": [
       "<Figure size 1500x800 with 1 Axes>"
      ]
     },
     "metadata": {},
     "output_type": "display_data"
    }
   ],
   "source": [
    "# Distribution of type\n",
    "display_distribution(anime, 'type')"
   ]
  },
  {
   "cell_type": "code",
   "execution_count": 25,
   "id": "25f735df-19f6-4d6c-b217-ed814f67aa9e",
   "metadata": {
    "tags": []
   },
   "outputs": [
    {
     "data": {
      "image/png": "[encoded data removed]",
      "text/plain": [
       "<Figure size 1500x800 with 1 Axes>"
      ]
     },
     "metadata": {},
     "output_type": "display_data"
    }
   ],
   "source": [
    "# Distribution of episodes\n",
    "display_distribution(anime, 'episodes', density_plot=True)"
   ]
  },
  {
   "cell_type": "code",
   "execution_count": 26,
   "id": "23f4b1f9-c40f-443a-a6cf-87d10fd9dc98",
   "metadata": {
    "tags": []
   },
   "outputs": [
    {
     "data": {
      "image/png": "[encoded data removed]",
      "text/plain": [
       "<Figure size 1500x800 with 1 Axes>"
      ]
     },
     "metadata": {},
     "output_type": "display_data"
    }
   ],
   "source": [
    "# Distribution of rating\n",
    "display_distribution(anime, 'rating')"
   ]
  },
  {
   "cell_type": "code",
   "execution_count": 27,
   "id": "ed611548-67d5-4bc4-bc3f-b121f95c2d9b",
   "metadata": {
    "tags": []
   },
   "outputs": [
    {
     "data": {
      "image/png": "[encoded data removed]",
      "text/plain": [
       "<Figure size 1500x800 with 1 Axes>"
      ]
     },
     "metadata": {},
     "output_type": "display_data"
    }
   ],
   "source": [
    "# Distribution of rating\n",
    "display_distribution(anime, 'members', density_plot=True)"
   ]
  },
  {
   "cell_type": "markdown",
   "id": "f680b488-f274-46e2-a2f8-6857b9e415d4",
   "metadata": {},
   "source": [
    "Based on the visualizations of the distributions, we can draw several conclusions about the anime dataset.\n",
    "\n",
    "First, we can see that the majority of anime in the dataset are TV shows, OVAs, and movies.\n",
    "\n",
    "Secondly, the distribution of episodes is heavily skewed towards lower episode counts, with the majority of anime having less than 100 episodes. However, the x-axis of the plot extends up to 1800 episodes, indicating that there are some anime with much higher episode counts that are outliers in the dataset.\n",
    "\n",
    "Thirdly, the distribution of ratings appears to be roughly normal with a peak around 6.5/10, indicating that there are many average-rated anime in the dataset, with fewer anime being highly rated or poorly rated.\n",
    "\n",
    "Lastly, the distribution of members is heavily skewed towards lower member counts, with the majority of anime having less than 0.2 million members. This suggests that there are many niche anime in the dataset that have a small but dedicated fanbase, with fewer anime being popular enough to have a large number of members."
   ]
  },
  {
   "cell_type": "markdown",
   "id": "a81afe2d-b37b-492b-9220-4b69ad37a315",
   "metadata": {
    "jp-MarkdownHeadingCollapsed": true,
    "tags": []
   },
   "source": [
    "### 3-1-2 - Genre-by-genre study"
   ]
  },
  {
   "cell_type": "code",
   "execution_count": 28,
   "id": "0b572185-f5fc-4c1d-9922-c45f052ffaac",
   "metadata": {
    "jupyter": {
     "source_hidden": true
    },
    "tags": []
   },
   "outputs": [],
   "source": [
    "def rank_anime(df: pd.DataFrame) -> pd.DataFrame:\n",
    "    \"\"\"\n",
    "    Adds rank variables for average score and number of scores to a given Pandas DataFrame.\n",
    "    \n",
    "    Args:\n",
    "    - df (pd.DataFrame): The DataFrame to modify.\n",
    "    \n",
    "    Returns:\n",
    "    - pd.DataFrame: The modified DataFrame.\n",
    "    \"\"\"\n",
    "    # Add rank variable for average score\n",
    "    # This variable allows us to compare the popularity of anime based on their average score\n",
    "    df['score_rank'] = df['rating'].rank(method='dense', ascending=False)\n",
    "\n",
    "    # Add rank variable for number of scores\n",
    "    # This variable allows us to compare the popularity of anime based on the number of members who have added it to their list\n",
    "    df['members_rank'] = df['members'].rank(method='dense', ascending=False)\n",
    "    \n",
    "    return df"
   ]
  },
  {
   "cell_type": "code",
   "execution_count": 29,
   "id": "dd722c88-9557-46eb-bf0f-0c62702722b0",
   "metadata": {
    "jupyter": {
     "source_hidden": true
    },
    "tags": []
   },
   "outputs": [],
   "source": [
    "def group_anime(\n",
    "    df: pd.DataFrame,\n",
    "    column_name: str\n",
    ") -> pd.DataFrame:\n",
    "    \"\"\"\n",
    "    Groups the anime DataFrame by a specified column name, and calculates\n",
    "    the average rating and number of ratings for each group. Adds rank\n",
    "    variables for average rating and number of ratings.\n",
    "\n",
    "    Args:\n",
    "    - df (pd.DataFrame): The DataFrame to modify.\n",
    "    - column_name (str): The name of the column to group by.\n",
    "\n",
    "    Returns:\n",
    "    - pd.DataFrame: A new DataFrame with the following columns:\n",
    "        - column_name: The name of the group.\n",
    "        - avg_rating: The average rating of all anime in the group.\n",
    "        - num_ratings: The total number of ratings for all anime in the group.\n",
    "        - avg_rating_rank: The rank of the group based on average rating.\n",
    "        - num_ratings_rank: The rank of the group based on number of ratings.\n",
    "    \"\"\"\n",
    "    # Group the anime by column_name\n",
    "    df_grouped = df.groupby(column_name)\n",
    "\n",
    "    # Calculate the average rating and number of ratings for each group\n",
    "    avg_rating = df_grouped['rating'].mean()\n",
    "    num_ratings = df_grouped['members'].sum()\n",
    "\n",
    "    # Create a new dataframe to store the results\n",
    "    stats = pd.DataFrame({'avg_rating': avg_rating, 'num_ratings': num_ratings})\n",
    "\n",
    "    # Add the rank variables to the dataframe\n",
    "    stats['avg_rating_rank'] = stats['avg_rating'].rank(ascending=False)\n",
    "    stats['num_ratings_rank'] = stats['num_ratings'].rank(ascending=False)\n",
    "\n",
    "    return stats"
   ]
  },
  {
   "cell_type": "code",
   "execution_count": 30,
   "id": "8b9685ab-3e39-4d1c-91d5-7a067876d002",
   "metadata": {
    "jupyter": {
     "source_hidden": true
    },
    "tags": []
   },
   "outputs": [],
   "source": [
    "def plot_topN(\n",
    "    df: pd.DataFrame,\n",
    "    column_name: str,\n",
    "    topN:int = TOP_N\n",
    ") -> None:\n",
    "    \"\"\"\n",
    "    Plots the top N genres based on a specified column in a Pandas DataFrame.\n",
    "\n",
    "    Args:\n",
    "    - df (pd.DataFrame): The DataFrame containing the data to plot.\n",
    "    - column_name (str): The name of the column to use for ranking the genres.\n",
    "    - topN (int, optional): The number of top genres to plot. Defaults to the global constant TOP_N.\n",
    "\n",
    "    Returns:\n",
    "    - None\n",
    "    \"\"\"\n",
    "    top_N = df.sort_values(by=column_name, ascending=False).head(topN)\n",
    "    sns.barplot(x=top_N.index, y=top_N[column_name])\n",
    "    plt.xticks(rotation=90)\n",
    "    plt.xlabel('Genre')\n",
    "    plt.ylabel(column_name)\n",
    "    plt.title(f'Top {topN} genres by {column_name}')\n",
    "    plt.show()"
   ]
  },
  {
   "cell_type": "code",
   "execution_count": 31,
   "id": "af67baa7-ac4c-404c-8c27-92aaa9cf78e0",
   "metadata": {
    "tags": []
   },
   "outputs": [],
   "source": [
    "anime = rank_anime(anime)"
   ]
  },
  {
   "cell_type": "code",
   "execution_count": 32,
   "id": "f504612e-e3ff-4fc6-b886-dbc460e88e6e",
   "metadata": {
    "tags": []
   },
   "outputs": [
    {
     "data": {
      "text/html": [
       "<div>\n",
       "<style scoped>\n",
       "    .dataframe tbody tr th:only-of-type {\n",
       "        vertical-align: middle;\n",
       "    }\n",
       "\n",
       "    .dataframe tbody tr th {\n",
       "        vertical-align: top;\n",
       "    }\n",
       "\n",
       "    .dataframe thead th {\n",
       "        text-align: right;\n",
       "    }\n",
       "</style>\n",
       "<table border=\"1\" class=\"dataframe\">\n",
       "  <thead>\n",
       "    <tr style=\"text-align: right;\">\n",
       "      <th></th>\n",
       "      <th>anime_id</th>\n",
       "      <th>name</th>\n",
       "      <th>genre</th>\n",
       "      <th>type</th>\n",
       "      <th>episodes</th>\n",
       "      <th>rating</th>\n",
       "      <th>members</th>\n",
       "      <th>cluster</th>\n",
       "      <th>cluster_name</th>\n",
       "      <th>score_rank</th>\n",
       "      <th>members_rank</th>\n",
       "    </tr>\n",
       "  </thead>\n",
       "  <tbody>\n",
       "    <tr>\n",
       "      <th>0</th>\n",
       "      <td>32281</td>\n",
       "      <td>Kimi no Na wa.</td>\n",
       "      <td>Drama, Romance, School, Supernatural</td>\n",
       "      <td>Movie</td>\n",
       "      <td>1</td>\n",
       "      <td>9.37</td>\n",
       "      <td>200630</td>\n",
       "      <td>1</td>\n",
       "      <td>Comedy</td>\n",
       "      <td>4.0</td>\n",
       "      <td>217.0</td>\n",
       "    </tr>\n",
       "    <tr>\n",
       "      <th>1</th>\n",
       "      <td>5114</td>\n",
       "      <td>Fullmetal Alchemist: Brotherhood</td>\n",
       "      <td>Action, Adventure, Drama, Fantasy, Magic, Mili...</td>\n",
       "      <td>TV</td>\n",
       "      <td>64</td>\n",
       "      <td>9.26</td>\n",
       "      <td>793665</td>\n",
       "      <td>0</td>\n",
       "      <td>Fantasy</td>\n",
       "      <td>6.0</td>\n",
       "      <td>4.0</td>\n",
       "    </tr>\n",
       "    <tr>\n",
       "      <th>2</th>\n",
       "      <td>28977</td>\n",
       "      <td>Gintama°</td>\n",
       "      <td>Action, Comedy, Historical, Parody, Samurai, S...</td>\n",
       "      <td>TV</td>\n",
       "      <td>51</td>\n",
       "      <td>9.25</td>\n",
       "      <td>114262</td>\n",
       "      <td>4</td>\n",
       "      <td>Sci-Fi</td>\n",
       "      <td>7.0</td>\n",
       "      <td>472.0</td>\n",
       "    </tr>\n",
       "    <tr>\n",
       "      <th>3</th>\n",
       "      <td>9253</td>\n",
       "      <td>Steins;Gate</td>\n",
       "      <td>Sci-Fi, Thriller</td>\n",
       "      <td>TV</td>\n",
       "      <td>24</td>\n",
       "      <td>9.17</td>\n",
       "      <td>673572</td>\n",
       "      <td>4</td>\n",
       "      <td>Sci-Fi</td>\n",
       "      <td>8.0</td>\n",
       "      <td>8.0</td>\n",
       "    </tr>\n",
       "    <tr>\n",
       "      <th>4</th>\n",
       "      <td>9969</td>\n",
       "      <td>Gintama&amp;#039;</td>\n",
       "      <td>Action, Comedy, Historical, Parody, Samurai, S...</td>\n",
       "      <td>TV</td>\n",
       "      <td>51</td>\n",
       "      <td>9.16</td>\n",
       "      <td>151266</td>\n",
       "      <td>4</td>\n",
       "      <td>Sci-Fi</td>\n",
       "      <td>9.0</td>\n",
       "      <td>334.0</td>\n",
       "    </tr>\n",
       "  </tbody>\n",
       "</table>\n",
       "</div>"
      ],
      "text/plain": [
       "   anime_id                              name  \\\n",
       "0     32281                    Kimi no Na wa.   \n",
       "1      5114  Fullmetal Alchemist: Brotherhood   \n",
       "2     28977                          Gintama°   \n",
       "3      9253                       Steins;Gate   \n",
       "4      9969                     Gintama&#039;   \n",
       "\n",
       "                                               genre   type  episodes  rating  \\\n",
       "0               Drama, Romance, School, Supernatural  Movie         1    9.37   \n",
       "1  Action, Adventure, Drama, Fantasy, Magic, Mili...     TV        64    9.26   \n",
       "2  Action, Comedy, Historical, Parody, Samurai, S...     TV        51    9.25   \n",
       "3                                   Sci-Fi, Thriller     TV        24    9.17   \n",
       "4  Action, Comedy, Historical, Parody, Samurai, S...     TV        51    9.16   \n",
       "\n",
       "   members  cluster cluster_name  score_rank  members_rank  \n",
       "0   200630        1       Comedy         4.0         217.0  \n",
       "1   793665        0      Fantasy         6.0           4.0  \n",
       "2   114262        4       Sci-Fi         7.0         472.0  \n",
       "3   673572        4       Sci-Fi         8.0           8.0  \n",
       "4   151266        4       Sci-Fi         9.0         334.0  "
      ]
     },
     "execution_count": 32,
     "metadata": {},
     "output_type": "execute_result"
    }
   ],
   "source": [
    "anime.head()"
   ]
  },
  {
   "cell_type": "code",
   "execution_count": 33,
   "id": "a05e10ae-5a3f-4773-9959-9f757383b3a1",
   "metadata": {
    "tags": []
   },
   "outputs": [
    {
     "name": "stdout",
     "output_type": "stream",
     "text": [
      "<class 'pandas.core.frame.DataFrame'>\n",
      "RangeIndex: 12294 entries, 0 to 12293\n",
      "Data columns (total 11 columns):\n",
      " #   Column        Non-Null Count  Dtype  \n",
      "---  ------        --------------  -----  \n",
      " 0   anime_id      12294 non-null  int64  \n",
      " 1   name          12294 non-null  object \n",
      " 2   genre         12294 non-null  object \n",
      " 3   type          12269 non-null  object \n",
      " 4   episodes      12294 non-null  int32  \n",
      " 5   rating        12064 non-null  float64\n",
      " 6   members       12294 non-null  int64  \n",
      " 7   cluster       12294 non-null  int32  \n",
      " 8   cluster_name  12294 non-null  object \n",
      " 9   score_rank    12064 non-null  float64\n",
      " 10  members_rank  12294 non-null  float64\n",
      "dtypes: float64(3), int32(2), int64(2), object(4)\n",
      "memory usage: 960.6+ KB\n"
     ]
    }
   ],
   "source": [
    "anime.info()"
   ]
  },
  {
   "cell_type": "code",
   "execution_count": 34,
   "id": "7700435b-262a-4a93-98eb-a296b53d66a3",
   "metadata": {
    "tags": []
   },
   "outputs": [
    {
     "data": {
      "text/html": [
       "<div>\n",
       "<style scoped>\n",
       "    .dataframe tbody tr th:only-of-type {\n",
       "        vertical-align: middle;\n",
       "    }\n",
       "\n",
       "    .dataframe tbody tr th {\n",
       "        vertical-align: top;\n",
       "    }\n",
       "\n",
       "    .dataframe thead th {\n",
       "        text-align: right;\n",
       "    }\n",
       "</style>\n",
       "<table border=\"1\" class=\"dataframe\">\n",
       "  <thead>\n",
       "    <tr style=\"text-align: right;\">\n",
       "      <th></th>\n",
       "      <th>avg_rating</th>\n",
       "      <th>num_ratings</th>\n",
       "      <th>avg_rating_rank</th>\n",
       "      <th>num_ratings_rank</th>\n",
       "    </tr>\n",
       "    <tr>\n",
       "      <th>cluster_name</th>\n",
       "      <th></th>\n",
       "      <th></th>\n",
       "      <th></th>\n",
       "      <th></th>\n",
       "    </tr>\n",
       "  </thead>\n",
       "  <tbody>\n",
       "    <tr>\n",
       "      <th>Fantasy</th>\n",
       "      <td>6.648840</td>\n",
       "      <td>30035097</td>\n",
       "      <td>4.0</td>\n",
       "      <td>5.0</td>\n",
       "    </tr>\n",
       "    <tr>\n",
       "      <th>Historical</th>\n",
       "      <td>6.683778</td>\n",
       "      <td>8342774</td>\n",
       "      <td>2.0</td>\n",
       "      <td>6.0</td>\n",
       "    </tr>\n",
       "    <tr>\n",
       "      <th>Kids</th>\n",
       "      <td>6.080019</td>\n",
       "      <td>887659</td>\n",
       "      <td>8.0</td>\n",
       "      <td>9.0</td>\n",
       "    </tr>\n",
       "    <tr>\n",
       "      <th>Sci-Fi</th>\n",
       "      <td>6.679726</td>\n",
       "      <td>35530552</td>\n",
       "      <td>3.0</td>\n",
       "      <td>3.0</td>\n",
       "    </tr>\n",
       "    <tr>\n",
       "      <th>Slice of Life</th>\n",
       "      <td>6.725185</td>\n",
       "      <td>31313345</td>\n",
       "      <td>1.0</td>\n",
       "      <td>4.0</td>\n",
       "    </tr>\n",
       "    <tr>\n",
       "      <th>Action</th>\n",
       "      <td>6.504209</td>\n",
       "      <td>59854997</td>\n",
       "      <td>6.0</td>\n",
       "      <td>1.0</td>\n",
       "    </tr>\n",
       "    <tr>\n",
       "      <th>Comedy</th>\n",
       "      <td>6.522813</td>\n",
       "      <td>51733240</td>\n",
       "      <td>5.0</td>\n",
       "      <td>2.0</td>\n",
       "    </tr>\n",
       "    <tr>\n",
       "      <th>Hentai</th>\n",
       "      <td>6.197189</td>\n",
       "      <td>2731178</td>\n",
       "      <td>7.0</td>\n",
       "      <td>7.0</td>\n",
       "    </tr>\n",
       "    <tr>\n",
       "      <th>Music</th>\n",
       "      <td>5.684352</td>\n",
       "      <td>1740198</td>\n",
       "      <td>9.0</td>\n",
       "      <td>8.0</td>\n",
       "    </tr>\n",
       "  </tbody>\n",
       "</table>\n",
       "</div>"
      ],
      "text/plain": [
       "                avg_rating  num_ratings  avg_rating_rank  num_ratings_rank\n",
       "cluster_name                                                              \n",
       " Fantasy          6.648840     30035097              4.0               5.0\n",
       " Historical       6.683778      8342774              2.0               6.0\n",
       " Kids             6.080019       887659              8.0               9.0\n",
       " Sci-Fi           6.679726     35530552              3.0               3.0\n",
       " Slice of Life    6.725185     31313345              1.0               4.0\n",
       "Action            6.504209     59854997              6.0               1.0\n",
       "Comedy            6.522813     51733240              5.0               2.0\n",
       "Hentai            6.197189      2731178              7.0               7.0\n",
       "Music             5.684352      1740198              9.0               8.0"
      ]
     },
     "execution_count": 34,
     "metadata": {},
     "output_type": "execute_result"
    }
   ],
   "source": [
    "genre_stats = group_anime(anime, 'cluster_name')\n",
    "genre_stats"
   ]
  },
  {
   "cell_type": "code",
   "execution_count": 35,
   "id": "6da1b756-1275-4f35-b068-ad328d389637",
   "metadata": {
    "tags": []
   },
   "outputs": [
    {
     "data": {
      "image/png": "[encoded data removed]",
      "text/plain": [
       "<Figure size 1500x800 with 1 Axes>"
      ]
     },
     "metadata": {},
     "output_type": "display_data"
    }
   ],
   "source": [
    "plot_topN(genre_stats, 'avg_rating')"
   ]
  },
  {
   "cell_type": "code",
   "execution_count": 36,
   "id": "08c4ece2-afee-4266-bfc2-aee28876ebd6",
   "metadata": {
    "tags": []
   },
   "outputs": [
    {
     "data": {
      "image/png": "[encoded data removed]",
      "text/plain": [
       "<Figure size 1500x800 with 1 Axes>"
      ]
     },
     "metadata": {},
     "output_type": "display_data"
    }
   ],
   "source": [
    "plot_topN(genre_stats, 'num_ratings')"
   ]
  },
  {
   "cell_type": "code",
   "execution_count": 37,
   "id": "5c4453ea-8bc7-4a43-864d-b4c6dfc3cda2",
   "metadata": {
    "tags": []
   },
   "outputs": [
    {
     "data": {
      "text/html": [
       "<div>\n",
       "<style scoped>\n",
       "    .dataframe tbody tr th:only-of-type {\n",
       "        vertical-align: middle;\n",
       "    }\n",
       "\n",
       "    .dataframe tbody tr th {\n",
       "        vertical-align: top;\n",
       "    }\n",
       "\n",
       "    .dataframe thead th {\n",
       "        text-align: right;\n",
       "    }\n",
       "</style>\n",
       "<table border=\"1\" class=\"dataframe\">\n",
       "  <thead>\n",
       "    <tr style=\"text-align: right;\">\n",
       "      <th></th>\n",
       "      <th>avg_rating</th>\n",
       "      <th>num_ratings</th>\n",
       "      <th>avg_rating_rank</th>\n",
       "      <th>num_ratings_rank</th>\n",
       "    </tr>\n",
       "    <tr>\n",
       "      <th>type</th>\n",
       "      <th></th>\n",
       "      <th></th>\n",
       "      <th></th>\n",
       "      <th></th>\n",
       "    </tr>\n",
       "  </thead>\n",
       "  <tbody>\n",
       "    <tr>\n",
       "      <th>Movie</th>\n",
       "      <td>6.318058</td>\n",
       "      <td>24326080</td>\n",
       "      <td>4.0</td>\n",
       "      <td>2.0</td>\n",
       "    </tr>\n",
       "    <tr>\n",
       "      <th>Music</th>\n",
       "      <td>5.588996</td>\n",
       "      <td>640178</td>\n",
       "      <td>6.0</td>\n",
       "      <td>6.0</td>\n",
       "    </tr>\n",
       "    <tr>\n",
       "      <th>ONA</th>\n",
       "      <td>5.643298</td>\n",
       "      <td>2711146</td>\n",
       "      <td>5.0</td>\n",
       "      <td>5.0</td>\n",
       "    </tr>\n",
       "    <tr>\n",
       "      <th>OVA</th>\n",
       "      <td>6.375221</td>\n",
       "      <td>19820109</td>\n",
       "      <td>3.0</td>\n",
       "      <td>3.0</td>\n",
       "    </tr>\n",
       "    <tr>\n",
       "      <th>Special</th>\n",
       "      <td>6.523501</td>\n",
       "      <td>12865078</td>\n",
       "      <td>2.0</td>\n",
       "      <td>4.0</td>\n",
       "    </tr>\n",
       "    <tr>\n",
       "      <th>TV</th>\n",
       "      <td>6.902299</td>\n",
       "      <td>161643014</td>\n",
       "      <td>1.0</td>\n",
       "      <td>1.0</td>\n",
       "    </tr>\n",
       "  </tbody>\n",
       "</table>\n",
       "</div>"
      ],
      "text/plain": [
       "         avg_rating  num_ratings  avg_rating_rank  num_ratings_rank\n",
       "type                                                               \n",
       "Movie      6.318058     24326080              4.0               2.0\n",
       "Music      5.588996       640178              6.0               6.0\n",
       "ONA        5.643298      2711146              5.0               5.0\n",
       "OVA        6.375221     19820109              3.0               3.0\n",
       "Special    6.523501     12865078              2.0               4.0\n",
       "TV         6.902299    161643014              1.0               1.0"
      ]
     },
     "execution_count": 37,
     "metadata": {},
     "output_type": "execute_result"
    }
   ],
   "source": [
    "type_stats = group_anime(anime, 'type')\n",
    "type_stats"
   ]
  },
  {
   "cell_type": "code",
   "execution_count": 38,
   "id": "3a6c5d88-e526-4f63-909d-715ec6bf44c2",
   "metadata": {
    "tags": []
   },
   "outputs": [
    {
     "data": {
      "image/png": "[encoded data removed]",
      "text/plain": [
       "<Figure size 1500x800 with 1 Axes>"
      ]
     },
     "metadata": {},
     "output_type": "display_data"
    }
   ],
   "source": [
    "plot_topN(type_stats, 'avg_rating')"
   ]
  },
  {
   "cell_type": "code",
   "execution_count": 39,
   "id": "90c26caa-6fd3-4fce-8d6d-9fc9b2971a61",
   "metadata": {
    "tags": []
   },
   "outputs": [
    {
     "data": {
      "image/png": "[encoded data removed]",
      "text/plain": [
       "<Figure size 1500x800 with 1 Axes>"
      ]
     },
     "metadata": {},
     "output_type": "display_data"
    }
   ],
   "source": [
    "plot_topN(type_stats, 'num_ratings')"
   ]
  },
  {
   "cell_type": "markdown",
   "id": "9e5e46ef-c8b1-4449-9315-af84d7dab209",
   "metadata": {},
   "source": [
    "Based on the analysis, we can conclude that for the genre, the top 3 most popular genres in terms of number of members are action, comedy, and scifi, while the top 3 genres with the highest average rating are slice of life, historical, and sci-fi. However, the difference in average rating between genres is not significant, and there is a large overlap in popularity between genres.\n",
    "\n",
    "For the type of anime, the most popular type is TV series with the highest number of members, followed by movies and OVAs. However, the average rating is relatively similar between different types of anime, with TV series being slightly higher. It is also worth noting that the number of members for the different types of anime varies greatly, with TV series having the most members by a large margin.\n",
    "\n",
    "Overall, it can be concluded that popularity and average rating are not necessarily correlated, and different types and genres of anime can have a wide range of popularity and ratings."
   ]
  },
  {
   "cell_type": "markdown",
   "id": "a4e46cbc-7fe6-48e3-9ce6-2beb31555c26",
   "metadata": {
    "jp-MarkdownHeadingCollapsed": true,
    "tags": []
   },
   "source": [
    "### 3-1-3 - Conclusion for EDA in anime dataset\n",
    "Based on the exploratory data analysis (EDA) performed on the anime dataset, we can draw the following conclusions:\n",
    "\n",
    "- The majority of anime in the dataset are of the TV type, followed by OVA and movies.\n",
    "- The distribution of episodes shows that the majority of anime have less than 100 episodes, with a long tail indicating a few outliers with significantly more episodes.\n",
    "- The distribution of ratings is roughly normal with a peak around 6.5/10, indicating that most anime in the dataset are rated around this score.\n",
    "- The distribution of members shows that there are a few extremely popular anime with millions of members, while the majority have relatively few members.\n",
    "- Slice of life and historical anime tend to have higher average ratings, while action and comedy anime tend to have more members.\n",
    "- TV anime are the most popular in terms of number of members, followed by movies, OVA, specials, and music anime."
   ]
  },
  {
   "cell_type": "markdown",
   "id": "8302cdca-b682-4a13-bbbf-d15b7bebc3ef",
   "metadata": {
    "tags": []
   },
   "source": [
    "## 3-2 - Rating"
   ]
  },
  {
   "cell_type": "code",
   "execution_count": 40,
   "id": "5a7d8a89-487a-4b06-a3cc-5989b0abbf73",
   "metadata": {
    "jupyter": {
     "source_hidden": true
    },
    "tags": []
   },
   "outputs": [],
   "source": [
    "def display_rating_info():\n",
    "    \"\"\"\n",
    "    Prints a table with information about the rating dataset columns.\n",
    "    \"\"\"\n",
    "    table = PrettyTable()\n",
    "    table.field_names = [\"Column\", \"Description\"]\n",
    "    table.add_row(['user_id', 'non identifiable randomly generated user id'])\n",
    "    table.add_row(['anime_id', 'the anime that this user has rated'])\n",
    "    table.add_row(['rating', 'rating out of 10 this user has assigned (-1 if the user watched it but didn\\'t assign a rating)'])\n",
    "    print(table)"
   ]
  },
  {
   "cell_type": "code",
   "execution_count": 41,
   "id": "0442dde6-8df5-4c3c-92fd-a8c2314c7b8a",
   "metadata": {
    "tags": []
   },
   "outputs": [
    {
     "data": {
      "text/html": [
       "<div>\n",
       "<style scoped>\n",
       "    .dataframe tbody tr th:only-of-type {\n",
       "        vertical-align: middle;\n",
       "    }\n",
       "\n",
       "    .dataframe tbody tr th {\n",
       "        vertical-align: top;\n",
       "    }\n",
       "\n",
       "    .dataframe thead th {\n",
       "        text-align: right;\n",
       "    }\n",
       "</style>\n",
       "<table border=\"1\" class=\"dataframe\">\n",
       "  <thead>\n",
       "    <tr style=\"text-align: right;\">\n",
       "      <th></th>\n",
       "      <th>user_id</th>\n",
       "      <th>anime_id</th>\n",
       "      <th>rating</th>\n",
       "    </tr>\n",
       "  </thead>\n",
       "  <tbody>\n",
       "    <tr>\n",
       "      <th>0</th>\n",
       "      <td>1</td>\n",
       "      <td>20</td>\n",
       "      <td>-1</td>\n",
       "    </tr>\n",
       "    <tr>\n",
       "      <th>1</th>\n",
       "      <td>1</td>\n",
       "      <td>24</td>\n",
       "      <td>-1</td>\n",
       "    </tr>\n",
       "    <tr>\n",
       "      <th>2</th>\n",
       "      <td>1</td>\n",
       "      <td>79</td>\n",
       "      <td>-1</td>\n",
       "    </tr>\n",
       "    <tr>\n",
       "      <th>3</th>\n",
       "      <td>1</td>\n",
       "      <td>226</td>\n",
       "      <td>-1</td>\n",
       "    </tr>\n",
       "    <tr>\n",
       "      <th>4</th>\n",
       "      <td>1</td>\n",
       "      <td>241</td>\n",
       "      <td>-1</td>\n",
       "    </tr>\n",
       "  </tbody>\n",
       "</table>\n",
       "</div>"
      ],
      "text/plain": [
       "   user_id  anime_id  rating\n",
       "0        1        20      -1\n",
       "1        1        24      -1\n",
       "2        1        79      -1\n",
       "3        1       226      -1\n",
       "4        1       241      -1"
      ]
     },
     "execution_count": 41,
     "metadata": {},
     "output_type": "execute_result"
    }
   ],
   "source": [
    "rating.head()"
   ]
  },
  {
   "cell_type": "code",
   "execution_count": 42,
   "id": "4cae65c3-5dfb-4ba0-82b4-b9ebf8730d16",
   "metadata": {
    "tags": []
   },
   "outputs": [
    {
     "name": "stdout",
     "output_type": "stream",
     "text": [
      "<class 'pandas.core.frame.DataFrame'>\n",
      "RangeIndex: 7813737 entries, 0 to 7813736\n",
      "Data columns (total 3 columns):\n",
      " #   Column    Dtype\n",
      "---  ------    -----\n",
      " 0   user_id   int64\n",
      " 1   anime_id  int64\n",
      " 2   rating    int64\n",
      "dtypes: int64(3)\n",
      "memory usage: 178.8 MB\n"
     ]
    }
   ],
   "source": [
    "rating.info()"
   ]
  },
  {
   "cell_type": "code",
   "execution_count": 43,
   "id": "4fef38b5-7df5-4e7f-9e06-ba98a3f975ba",
   "metadata": {
    "tags": []
   },
   "outputs": [
    {
     "name": "stdout",
     "output_type": "stream",
     "text": [
      "+----------+------------------------------------------------------------------------------------------------+\n",
      "|  Column  |                                          Description                                           |\n",
      "+----------+------------------------------------------------------------------------------------------------+\n",
      "| user_id  |                          non identifiable randomly generated user id                           |\n",
      "| anime_id |                               the anime that this user has rated                               |\n",
      "|  rating  | rating out of 10 this user has assigned (-1 if the user watched it but didn't assign a rating) |\n",
      "+----------+------------------------------------------------------------------------------------------------+\n"
     ]
    }
   ],
   "source": [
    "display_rating_info()"
   ]
  },
  {
   "cell_type": "markdown",
   "id": "c7ddb267-bf7b-4e66-815c-e03b8ce38387",
   "metadata": {
    "jp-MarkdownHeadingCollapsed": true,
    "tags": []
   },
   "source": [
    "### 3-1-1 - Add some relevant data\n",
    "We can add user ratings and rating per anime values in the dataframe."
   ]
  },
  {
   "cell_type": "markdown",
   "id": "08beb01b-607a-4659-9efe-af15c84a80a7",
   "metadata": {},
   "source": [
    "For simplicity just remove *-1 rating* (the user watched it but didn't assign a rating) and also we need to remove *anime_id* that's not in *anime* dataframe:"
   ]
  },
  {
   "cell_type": "code",
   "execution_count": 44,
   "id": "ebd302cc-714c-4b75-985f-cffa198925b9",
   "metadata": {
    "jupyter": {
     "source_hidden": true
    },
    "tags": []
   },
   "outputs": [],
   "source": [
    "def remove_non_rating(df: pd.DataFrame) -> pd.DataFrame:\n",
    "    \"\"\"\n",
    "    Remove non-rating values from the rating DataFrame.\n",
    "    \n",
    "    Args:\n",
    "    - rating (pd.DataFrame): The rating DataFrame.\n",
    "    \n",
    "    Returns:\n",
    "    - pd.DataFrame: The rating DataFrame without non-rating values.\n",
    "    \"\"\"\n",
    "    df['rating'] = df['rating'].replace(-1, np.nan)\n",
    "    df = df.dropna()\n",
    "    \n",
    "    return df"
   ]
  },
  {
   "cell_type": "code",
   "execution_count": 45,
   "id": "9285d960-9ce0-4a59-9d91-dfd211d86541",
   "metadata": {
    "jupyter": {
     "source_hidden": true
    },
    "tags": []
   },
   "outputs": [],
   "source": [
    "def remove_non_anime(\n",
    "    df_r: pd.DataFrame,\n",
    "    df_a: pd.DataFrame\n",
    ") -> pd.DataFrame:\n",
    "    \"\"\"\n",
    "    Removes anime that have no ratings from the anime DataFrame by merging with the rating DataFrame.\n",
    "\n",
    "    Args:\n",
    "    - df_r (pd.DataFrame): DataFrame containing the user ratings.\n",
    "    - df_a (pd.DataFrame): DataFrame containing the anime information.\n",
    "\n",
    "    Returns:\n",
    "    - pd.DataFrame: DataFrame with only the anime that have at least one rating and their corresponding user ratings.\n",
    "    \"\"\"\n",
    "    # merge the rating and anime DataFrames on anime_id\n",
    "    merged_df = df_a.merge(df_r, on='anime_id', how='inner')\n",
    "    # create a new DataFrame with only the user_id, anime_id, and rating columns\n",
    "    df_r = merged_df[['user_id', 'anime_id', 'rating_y']]\n",
    "    # rename the rating_y column to rating for consistency\n",
    "    df_r = df_r.rename(columns={'rating_y': 'rating'})\n",
    "    \n",
    "    return df_r"
   ]
  },
  {
   "cell_type": "code",
   "execution_count": 46,
   "id": "562fff34-3db1-4973-922e-2ffc9222b56e",
   "metadata": {
    "jupyter": {
     "source_hidden": true
    },
    "tags": []
   },
   "outputs": [],
   "source": [
    "def create_new_data_for_rating(df: pd.DataFrame) -> tuple[pd.DataFrame, pd.DataFrame]:\n",
    "    \"\"\"\n",
    "    Creates new dataframes for user ratings and ratings per anime based on the given rating dataframe.\n",
    "\n",
    "    Args:\n",
    "    -df (pd.DataFrame): A dataframe containing user ratings for anime.\n",
    "\n",
    "    Returns:\n",
    "    - tuple[pd.DataFrame, pd.DataFrame]: A tuple containing two dataframes:\n",
    "        - user_ratings: A dataframe with the count of ratings each user has given.\n",
    "        - ratings_per_anime: A dataframe with the count of ratings each anime has received.\n",
    "    \"\"\"\n",
    "    # Create a dataframe with the count of ratings each user has given\n",
    "    user_ratings = pd.DataFrame({'ratings': df.groupby('user_id')['rating'].count()})\n",
    "    \n",
    "    # Create a dataframe with the count of ratings each anime has received\n",
    "    ratings_per_anime = pd.DataFrame({'count': df.groupby('anime_id').size()})\n",
    "    \n",
    "    return user_ratings, ratings_per_anime"
   ]
  },
  {
   "cell_type": "code",
   "execution_count": 47,
   "id": "5810944b-630d-41c6-80ba-d95366b8c197",
   "metadata": {
    "tags": []
   },
   "outputs": [],
   "source": [
    "rating = remove_non_rating(rating)"
   ]
  },
  {
   "cell_type": "code",
   "execution_count": 48,
   "id": "739cc740-3cf2-4c8a-b3ca-32377b2452bc",
   "metadata": {
    "tags": []
   },
   "outputs": [],
   "source": [
    "rating = remove_non_anime(rating, anime)"
   ]
  },
  {
   "cell_type": "code",
   "execution_count": 49,
   "id": "924d8c91-3b2c-41d8-b5dd-374af244b3d0",
   "metadata": {
    "tags": []
   },
   "outputs": [
    {
     "name": "stdout",
     "output_type": "stream",
     "text": [
      "<class 'pandas.core.frame.DataFrame'>\n",
      "Int64Index: 6337239 entries, 0 to 6337238\n",
      "Data columns (total 3 columns):\n",
      " #   Column    Dtype  \n",
      "---  ------    -----  \n",
      " 0   user_id   int64  \n",
      " 1   anime_id  int64  \n",
      " 2   rating    float64\n",
      "dtypes: float64(1), int64(2)\n",
      "memory usage: 193.4 MB\n"
     ]
    }
   ],
   "source": [
    "rating.info()"
   ]
  },
  {
   "cell_type": "code",
   "execution_count": 50,
   "id": "6e65f86c-8616-4c9d-9ea6-429a08953a03",
   "metadata": {
    "tags": []
   },
   "outputs": [],
   "source": [
    "# Create new data\n",
    "user_ratings, ratings_per_anime = create_new_data_for_rating(rating)"
   ]
  },
  {
   "cell_type": "markdown",
   "id": "4d204b49-e0e0-4289-8902-7e2955d49905",
   "metadata": {
    "tags": []
   },
   "source": [
    "### 3-1-2 - Visualize some distributions"
   ]
  },
  {
   "cell_type": "code",
   "execution_count": 51,
   "id": "5b28d1d0-dacf-4239-8549-0ded5825b7f4",
   "metadata": {
    "tags": []
   },
   "outputs": [
    {
     "data": {
      "image/png": "[encoded data removed]",
      "text/plain": [
       "<Figure size 1500x800 with 1 Axes>"
      ]
     },
     "metadata": {},
     "output_type": "display_data"
    }
   ],
   "source": [
    "# Distribution of rating\n",
    "display_distribution(rating, 'rating')"
   ]
  },
  {
   "cell_type": "code",
   "execution_count": 52,
   "id": "9e05e46c-6f60-4c77-91e2-096c468c70b1",
   "metadata": {
    "tags": []
   },
   "outputs": [
    {
     "data": {
      "image/png": "[encoded data removed]",
      "text/plain": [
       "<Figure size 1500x800 with 1 Axes>"
      ]
     },
     "metadata": {},
     "output_type": "display_data"
    }
   ],
   "source": [
    "# Distribution of user_ratings\n",
    "display_distribution(user_ratings, 'ratings')"
   ]
  },
  {
   "cell_type": "code",
   "execution_count": 53,
   "id": "75daa4d8-f054-4397-9aec-81a334565c05",
   "metadata": {
    "tags": []
   },
   "outputs": [
    {
     "data": {
      "image/png": "[encoded data removed]",
      "text/plain": [
       "<Figure size 1500x800 with 1 Axes>"
      ]
     },
     "metadata": {},
     "output_type": "display_data"
    }
   ],
   "source": [
    "# Distribution of ratings_per_anime\n",
    "display_distribution(ratings_per_anime, 'count')"
   ]
  },
  {
   "cell_type": "markdown",
   "id": "2fc19aa5-9a4a-422e-88b1-c87509e2d26d",
   "metadata": {},
   "source": [
    "Based on the visualizations, we can see that the rating distribution has a peak at 8/10, which suggests that users tend to rate anime they have watched more positively.\n",
    "\n",
    "The distribution of user ratings shows that there are a large number of users who have rated very few anime (0 to 500), but there are also some users who have rated a significant number of anime (up to 3500). This suggests that the dataset may be skewed towards more active users.\n",
    "\n",
    "The distribution of ratings per anime also shows a peak at 0, indicating that there are a large number of anime with very few ratings. However, the distribution continues to a peak at around 3000, suggesting that there are some anime with a significant number of ratings, which could indicate that these anime are more popular or well-known.\n",
    "\n",
    "We can consider users and anime that have an unusually high number of ratings outliers in the data. To create a more representative dataset and avoid skewing the analysis based on these outliers we can add threshold to remove outliers from the rating data. The specific threshold values may need to be adjusted later."
   ]
  },
  {
   "cell_type": "code",
   "execution_count": 54,
   "id": "1f66bb1d-b068-42ac-8152-deefe55c0c12",
   "metadata": {
    "jupyter": {
     "source_hidden": true
    },
    "tags": []
   },
   "outputs": [],
   "source": [
    "def rating_w_threshold(\n",
    "    df: pd.DataFrame,\n",
    "    max_user_ratings: int=MAX_USER_RATING,\n",
    "    max_ratings_per_anime: int=MAX_RATINGS_PER_ANIME\n",
    ")-> pd.DataFrame:\n",
    "    \"\"\"\n",
    "    Returns a subset of the rating DataFrame filtered by the maximum number of ratings per user and per anime.\n",
    "    \n",
    "    Args:\n",
    "    - df (pd.DataFrame): The original rating DataFrame to filter.\n",
    "    - max_user_ratings (int, optional): The maximum number of ratings per user allowed in the filtered DataFrame. Defaults to MAX_USER_RATING.\n",
    "    - max_ratings_per_anime (int, optional): The maximum number of ratings per anime allowed in the filtered DataFrame. Defaults to MAX_RATINGS_PER_ANIME.\n",
    "    \n",
    "    Returns:\n",
    "    - pd.DataFrame: The filtered rating DataFrame.\n",
    "    \"\"\"\n",
    "    # Get user counts and filter by MAX_USER_RATING\n",
    "    user_counts = df.groupby('user_id')['rating'].count()\n",
    "    user_counts = user_counts[user_counts <= max_user_ratings]\n",
    "    \n",
    "    # Get anime counts and filter by MAX_RATINGS_PER_ANIME\n",
    "    anime_counts = df.groupby('anime_id').size()\n",
    "    anime_counts = anime_counts[anime_counts <= max_ratings_per_anime]\n",
    "    \n",
    "    # Filter the rating DataFrame\n",
    "    df_final = df[(df[\"user_id\"].isin(user_counts.index)) & (df[\"anime_id\"].isin(anime_counts.index))]\n",
    "    return df_final"
   ]
  },
  {
   "cell_type": "code",
   "execution_count": 55,
   "id": "b66514ff-e4bb-4fbc-8b9c-a4296fc9a459",
   "metadata": {
    "tags": []
   },
   "outputs": [],
   "source": [
    "rating = rating_w_threshold(rating)"
   ]
  },
  {
   "cell_type": "code",
   "execution_count": 56,
   "id": "886f5fd9-eb7b-4a2b-9974-db9e9a3b3fc9",
   "metadata": {
    "tags": []
   },
   "outputs": [
    {
     "name": "stdout",
     "output_type": "stream",
     "text": [
      "<class 'pandas.core.frame.DataFrame'>\n",
      "Int64Index: 3033215 entries, 0 to 6337211\n",
      "Data columns (total 3 columns):\n",
      " #   Column    Dtype  \n",
      "---  ------    -----  \n",
      " 0   user_id   int64  \n",
      " 1   anime_id  int64  \n",
      " 2   rating    float64\n",
      "dtypes: float64(1), int64(2)\n",
      "memory usage: 92.6 MB\n"
     ]
    }
   ],
   "source": [
    "rating.info()"
   ]
  },
  {
   "cell_type": "code",
   "execution_count": 57,
   "id": "973c2841-874f-4fc8-bc77-ef8f2a4e79af",
   "metadata": {
    "tags": []
   },
   "outputs": [],
   "source": [
    "user_ratings, ratings_per_anime = create_new_data_for_rating(rating)"
   ]
  },
  {
   "cell_type": "code",
   "execution_count": 58,
   "id": "1e6bec8b-37ba-421f-81f2-6193af991128",
   "metadata": {
    "tags": []
   },
   "outputs": [
    {
     "data": {
      "image/png": "[encoded data removed]",
      "text/plain": [
       "<Figure size 1500x800 with 1 Axes>"
      ]
     },
     "metadata": {},
     "output_type": "display_data"
    }
   ],
   "source": [
    "# Distribution of user_ratings\n",
    "display_distribution(user_ratings, 'ratings')"
   ]
  },
  {
   "cell_type": "code",
   "execution_count": 59,
   "id": "087e8604-4491-4626-869e-66a686a451d7",
   "metadata": {
    "tags": []
   },
   "outputs": [
    {
     "data": {
      "image/png": "[encoded data removed]",
      "text/plain": [
       "<Figure size 1500x800 with 1 Axes>"
      ]
     },
     "metadata": {},
     "output_type": "display_data"
    }
   ],
   "source": [
    "# Distribution of ratings_per_anime\n",
    "display_distribution(ratings_per_anime, 'count')"
   ]
  },
  {
   "cell_type": "markdown",
   "id": "4b081ec7-45ce-44f1-8819-bd480b086b82",
   "metadata": {
    "jp-MarkdownHeadingCollapsed": true,
    "tags": []
   },
   "source": [
    "### 3-1-3 - Conclusion for EDA in rating dataset\n",
    "\n",
    "After performing exploratory data analysis on the rating dataset, we can conclude that the dataset has a large number of entries with a wide range of ratings, from 1 to 10. The distribution of ratings is skewed to the right with a peak at 8. We also found that the distribution of the number of user ratings per anime and the distribution of the number of ratings per user follow a similar pattern, with a steep decrease from 0 and then a more gradual decrease up to a certain threshold, where it levels off.\n",
    "\n",
    "We further applied some pre-processing steps to the dataset, such as removing non-rated anime and users with fewer ratings, and removing outliers using a threshold approach. These steps helped to improve the quality of the data and remove noise."
   ]
  },
  {
   "cell_type": "markdown",
   "id": "705aac7e-ce48-461a-a3de-4a58ac0f149d",
   "metadata": {
    "jp-MarkdownHeadingCollapsed": true,
    "tags": []
   },
   "source": [
    "# 4 - Prepare the data\n",
    "In this section, we modify and prepare our data to for model building taking into account our results from part **3 - EDA**."
   ]
  },
  {
   "cell_type": "markdown",
   "id": "55ab03e2-1f19-4da9-bcdc-60cf7acb7f84",
   "metadata": {},
   "source": [
    "We do all the preprocessing that we have done in previous part in data that we did not touch, note that we copy code for a better readability: "
   ]
  },
  {
   "cell_type": "code",
   "execution_count": 60,
   "id": "4a672bec-e883-4426-bae8-223b9d2a9dce",
   "metadata": {
    "jupyter": {
     "source_hidden": true
    },
    "tags": []
   },
   "outputs": [],
   "source": [
    "def get_user_id(predictions: list[tuple[int, int, float, int, str]]) -> int:\n",
    "    \"\"\"\n",
    "    Get the user_id that appears most frequently in a list of predictions.\n",
    "\n",
    "    Args:\n",
    "    - predictions: A list of tuples representing predictions. Each tuple should have\n",
    "        the following elements in order: user_id (int), item_id (int), real rating (float),\n",
    "        predicted rating (float), and an optional fourth field (str).\n",
    "    \n",
    "    Returns:\n",
    "    - The user_id that appears most frequently in the list of predictions.\n",
    "    \"\"\"\n",
    "    user_counts = {}\n",
    "    if len(predictions) != 0:\n",
    "        for prediction in predictions:\n",
    "            user_id = prediction[0]\n",
    "            if user_id in user_counts:\n",
    "                user_counts[user_id] += 1\n",
    "            else:\n",
    "                user_counts[user_id] = 1\n",
    "\n",
    "        return max(user_counts, key=lambda x: user_counts[x])\n",
    "    else:\n",
    "        return 0"
   ]
  },
  {
   "cell_type": "code",
   "execution_count": 61,
   "id": "a270dbfb-8314-4e80-9133-73654fcfe2ba",
   "metadata": {
    "jupyter": {
     "source_hidden": true
    },
    "tags": []
   },
   "outputs": [],
   "source": [
    "def display_top_N(\n",
    "    top_N: list[tuple[str, float, int]],\n",
    "    user_id: int=USER_ID,\n",
    "    N: int=TOP_N\n",
    ") -> None:\n",
    "    \"\"\"\n",
    "    Prints the top N anime titles based on average rating and number of ratings.\n",
    "\n",
    "    Args:\n",
    "    - top_N (list[tuple[str, float, int]]): A list of tuples containing the top N anime titles, their average rating, and the number of ratings they have.\n",
    "    - user_id (int): The number of titles to display. Defaults to TOP_N. Defaults to USER_ID.\n",
    "    - N (int): The number of titles to display. Defaults to TOP_N.\n",
    "\n",
    "    Returns:\n",
    "    - None\n",
    "    \"\"\"\n",
    "    table = PrettyTable()\n",
    "    print(f\"\\nTop {N} for {user_id}\")\n",
    "    table.field_names = [\"Title\", \"Average score\", \"Number of scores\"]\n",
    "    for title, score, num_ratings in top_N:\n",
    "        table.add_row([title, score, num_ratings])\n",
    "    print(table)"
   ]
  },
  {
   "cell_type": "code",
   "execution_count": 62,
   "id": "d7b81879-c095-478f-b254-2b892efbbb42",
   "metadata": {
    "jupyter": {
     "source_hidden": true
    },
    "tags": []
   },
   "outputs": [],
   "source": [
    "def save_model(model: object, name: str) -> None:\n",
    "    \"\"\"Saves a trained model to a file using pickle.\n",
    "\n",
    "    Args:\n",
    "    - model (object): A trained machine learning model object to be saved.\n",
    "    - name (str): The name of the file to save the model.\n",
    "\n",
    "    Returns:\n",
    "    - None\n",
    "\n",
    "    \"\"\"\n",
    "    if not os.path.exists(PKL_MODEL_DIR):\n",
    "        os.makedirs(PKL_MODEL_DIR)\n",
    "    with open(f\"{PKL_MODEL_DIR}\\\\{name}.pkl\", \"wb\") as f:\n",
    "        # Using pickle to dump the model object to a binary file\n",
    "        pickle.dump(model, f)\n",
    "\n",
    "\n",
    "def load_model(name: str) -> object:\n",
    "    \"\"\"Loads a trained model from a file using pickle.\n",
    "\n",
    "    Args:\n",
    "    - name (str): The name of the file containing the saved model.\n",
    "\n",
    "    Returns:\n",
    "    - object: A trained machine learning model object.\n",
    "\n",
    "    \"\"\"\n",
    "    with open(f\"{PKL_MODEL_DIR}\\\\{name}.pkl\", \"rb\") as f:\n",
    "        # Using pickle to load the model object from the binary file\n",
    "        model = pickle.load(f)\n",
    "    return model"
   ]
  },
  {
   "cell_type": "markdown",
   "id": "e75173ee-0dc6-445d-b833-1937d8d37545",
   "metadata": {
    "jp-MarkdownHeadingCollapsed": true,
    "tags": []
   },
   "source": [
    "## 4-1 - Anime"
   ]
  },
  {
   "cell_type": "code",
   "execution_count": 63,
   "id": "ce338fc6-f263-4372-bacc-0296d82ccca4",
   "metadata": {
    "jupyter": {
     "source_hidden": true
    },
    "tags": []
   },
   "outputs": [],
   "source": [
    "def prepare_anime(df: pd.DataFrame) -> pd.DataFrame:\n",
    "    \"\"\"\n",
    "    Prepare the anime dataset for modeling.\n",
    "    \n",
    "    Args:\n",
    "    - df (pd.DataFrame): the anime dataset to prepare\n",
    "    \n",
    "    Returns:\n",
    "    - pd.DataFrame: the cleaned and processed anime dataset\n",
    "    \"\"\"\n",
    "    # Remove anime without rating\n",
    "    df['rating'] = df['rating'].replace(-1, np.nan)\n",
    "    # Remove rows with null values\n",
    "    df = df.dropna()\n",
    "    \n",
    "    # Convert 'episodes' column to int\n",
    "    df['episodes'] = df['episodes'].replace('Unknown', 0)\n",
    "    df['episodes'] = df['episodes'].astype(int)\n",
    "    \n",
    "    # Replace genre by cluster\n",
    "    # Replace missing values with an empty string\n",
    "    df['genre'].fillna('', inplace=True)\n",
    "    # Create a TfidfVectorizer object with stop words removed\n",
    "    tfidf = TfidfVectorizer(stop_words='english')\n",
    "    # Transform the genre column of the anime dataframe into a sparse matrix of TF-IDF features\n",
    "    X = tfidf.fit_transform(df['genre'])\n",
    "    # Apply K-means with NB_CLUSTER clusters\n",
    "    kmeans = KMeans(n_clusters=NB_CLUSTER, random_state=0, n_init=NB_CLUSTER)\n",
    "    kmeans.fit(X)\n",
    "    # Retrieve cluster labels for each genre\n",
    "    labels = kmeans.labels_\n",
    "    # Change gere for cluster labels \n",
    "    df['genre'] = labels\n",
    "    \n",
    "    # Label encoded type\n",
    "    label_encoder = LabelEncoder()\n",
    "    df['type'] = label_encoder.fit_transform(df['type'])\n",
    "    \n",
    "    return df"
   ]
  },
  {
   "cell_type": "code",
   "execution_count": 64,
   "id": "97dc3135-5345-4c63-9815-1761a7ec23d1",
   "metadata": {
    "tags": []
   },
   "outputs": [
    {
     "name": "stderr",
     "output_type": "stream",
     "text": [
      "C:\\Users\\grond\\AppData\\Local\\Temp\\ipykernel_23872\\2863234661.py:17: SettingWithCopyWarning: \n",
      "A value is trying to be set on a copy of a slice from a DataFrame.\n",
      "Try using .loc[row_indexer,col_indexer] = value instead\n",
      "\n",
      "See the caveats in the documentation: https://pandas.pydata.org/pandas-docs/stable/user_guide/indexing.html#returning-a-view-versus-a-copy\n",
      "  df['episodes'] = df['episodes'].replace('Unknown', 0)\n",
      "C:\\Users\\grond\\AppData\\Local\\Temp\\ipykernel_23872\\2863234661.py:18: SettingWithCopyWarning: \n",
      "A value is trying to be set on a copy of a slice from a DataFrame.\n",
      "Try using .loc[row_indexer,col_indexer] = value instead\n",
      "\n",
      "See the caveats in the documentation: https://pandas.pydata.org/pandas-docs/stable/user_guide/indexing.html#returning-a-view-versus-a-copy\n",
      "  df['episodes'] = df['episodes'].astype(int)\n",
      "C:\\Users\\grond\\AppData\\Local\\Temp\\ipykernel_23872\\2863234661.py:22: SettingWithCopyWarning: \n",
      "A value is trying to be set on a copy of a slice from a DataFrame\n",
      "\n",
      "See the caveats in the documentation: https://pandas.pydata.org/pandas-docs/stable/user_guide/indexing.html#returning-a-view-versus-a-copy\n",
      "  df['genre'].fillna('', inplace=True)\n",
      "C:\\Users\\grond\\AppData\\Local\\Temp\\ipykernel_23872\\2863234661.py:33: SettingWithCopyWarning: \n",
      "A value is trying to be set on a copy of a slice from a DataFrame.\n",
      "Try using .loc[row_indexer,col_indexer] = value instead\n",
      "\n",
      "See the caveats in the documentation: https://pandas.pydata.org/pandas-docs/stable/user_guide/indexing.html#returning-a-view-versus-a-copy\n",
      "  df['genre'] = labels\n",
      "C:\\Users\\grond\\AppData\\Local\\Temp\\ipykernel_23872\\2863234661.py:37: SettingWithCopyWarning: \n",
      "A value is trying to be set on a copy of a slice from a DataFrame.\n",
      "Try using .loc[row_indexer,col_indexer] = value instead\n",
      "\n",
      "See the caveats in the documentation: https://pandas.pydata.org/pandas-docs/stable/user_guide/indexing.html#returning-a-view-versus-a-copy\n",
      "  df['type'] = label_encoder.fit_transform(df['type'])\n"
     ]
    }
   ],
   "source": [
    "anime = prepare_anime(anime_df)\n",
    "warnings.simplefilter('ignore')"
   ]
  },
  {
   "cell_type": "markdown",
   "id": "e395d567-2bd0-46b8-adcb-270ab2b08c69",
   "metadata": {
    "jp-MarkdownHeadingCollapsed": true,
    "tags": []
   },
   "source": [
    "## 4-2 - Rating"
   ]
  },
  {
   "cell_type": "code",
   "execution_count": 65,
   "id": "751042e8-c34c-4463-b7ec-c845805c3b56",
   "metadata": {
    "jupyter": {
     "source_hidden": true
    },
    "tags": []
   },
   "outputs": [],
   "source": [
    "def prepare_rating(\n",
    "    df_a: pd.DataFrame,\n",
    "    df_r: pd.DataFrame,\n",
    "    max_user_ratings: int=MAX_USER_RATING,\n",
    "    max_ratings_per_anime: int=MAX_RATINGS_PER_ANIME\n",
    ") -> pd.DataFrame:\n",
    "    \"\"\"\n",
    "    This function prepares the ratings dataframe by removing non-ratings, \n",
    "    filtering anime that are not in the anime dataframe, and applying \n",
    "    thresholds for the number of ratings per user and anime.\n",
    "\n",
    "    Args:\n",
    "    - anime (pd.DataFrame): The anime dataframe.\n",
    "    - rating (pd.DataFrame): The ratings dataframe.\n",
    "    - max_user_ratings (int, optional): The maximum number of ratings per user allowed in the filtered DataFrame. Defaults to MAX_USER_RATING.\n",
    "    - max_ratings_per_anime (int, optional): The maximum number of ratings per anime allowed in the filtered DataFrame. Defaults to MAX_RATINGS_PER_ANIME.\n",
    "\n",
    "    Returns:\n",
    "    - pd.DataFrame: The prepared ratings dataframe.\n",
    "    \"\"\"\n",
    "    # Remove non rating\n",
    "    df_r['rating'] = df_r['rating'].replace(-1, np.nan)\n",
    "    df_r = df_r.dropna()\n",
    "    \n",
    "    # Remove anime that are not in the anime dataframe\n",
    "    merged_df = df_a.merge(df_r, on='anime_id', how='inner')\n",
    "    df_r = merged_df[['user_id', 'anime_id', 'rating_y']]\n",
    "    df_r = df_r.rename(columns={'rating_y': 'rating'})\n",
    "    \n",
    "    # Apply thresholds for the number of ratings per user and anime\n",
    "    user_counts = df_r.groupby('user_id')['rating'].count()\n",
    "    user_counts = user_counts[user_counts <= max_user_ratings]\n",
    "    \n",
    "    anime_counts = df_r.groupby('anime_id').size()\n",
    "    anime_counts = anime_counts[anime_counts <= max_ratings_per_anime]\n",
    "    \n",
    "    df_r = df_r[(df_r[\"user_id\"].isin(user_counts.index)) & (df_r[\"anime_id\"].isin(anime_counts.index))]\n",
    "    return df_r"
   ]
  },
  {
   "cell_type": "code",
   "execution_count": 66,
   "id": "43f93737-ddf5-47ee-9438-dfea63b42061",
   "metadata": {
    "jupyter": {
     "source_hidden": true
    },
    "tags": []
   },
   "outputs": [],
   "source": [
    "def get_rating_data(\n",
    "    df: pd.DataFrame,\n",
    "    use_minimum: bool=False\n",
    ") -> tuple:\n",
    "    \"\"\"\n",
    "    This function prepares the rating dataset for use in the Surprise library \n",
    "    by modifying the columns names, filtering users and items with a minimum number \n",
    "    of ratings if specified, creating a Surprise Reader object, and splitting the \n",
    "    raw ratings into training and validation sets.\n",
    "\n",
    "    Args:\n",
    "    - df (pd.DataFrame): The original ratings dataframe.\n",
    "    - use_minimum (bool): Whether to filter users and items with a minimum number \n",
    "        of ratings. Default is False.\n",
    "\n",
    "    Returns:\n",
    "    - tuple: A tuple containing the prepared dataset, the training data, and \n",
    "        the validation data.\n",
    "\n",
    "    \"\"\"\n",
    "    # Modify columns name\n",
    "    df = df.rename(columns={\"user_id\": \"user\", \"anime_id\": \"item\"})\n",
    "    \n",
    "    if use_minimum:\n",
    "        # Filter the ratings data frame to limit to users who rated a minimum number of products\n",
    "        user_counts = df[\"user\"].value_counts()\n",
    "        user_counts = user_counts[user_counts >= MIN_RATING]\n",
    "        df = df[df[\"user\"].isin(user_counts.index)]\n",
    "        \n",
    "        # Filter the ratings data frame to limit to products that received a minimum number of ratings\n",
    "        item_counts = df[\"item\"].value_counts()\n",
    "        item_counts = item_counts[item_counts >= MIN_RATING]\n",
    "        df = df[df[\"item\"].isin(item_counts.index)]\n",
    "    \n",
    "    # Create Reader and load data\n",
    "    reader = Reader(line_format=\"user item rating\", sep=\";\", skip_lines=1)\n",
    "    data = Dataset.load_from_df(df, reader)\n",
    "    \n",
    "    # Split the raw ratings into training and validation sets\n",
    "    raw_ratings = data.raw_ratings\n",
    "    random.shuffle(raw_ratings)\n",
    "    threshold = int(0.8 * len(raw_ratings))\n",
    "    train_raw_ratings = raw_ratings[:threshold]\n",
    "    test_raw_ratings = raw_ratings[threshold:]\n",
    "\n",
    "    data.raw_ratings = train_raw_ratings # data is now training set\n",
    "\n",
    "    train_data = data.build_full_trainset().build_testset() # trainset: biased set\n",
    "    test_data = data.construct_testset(test_raw_ratings) # testset: unbiased set\n",
    "    return data, train_data, test_data"
   ]
  },
  {
   "cell_type": "code",
   "execution_count": 67,
   "id": "305e2819-60b3-45c2-bab2-b7261176055e",
   "metadata": {
    "tags": []
   },
   "outputs": [],
   "source": [
    "rating = prepare_rating(anime, rating_df)"
   ]
  },
  {
   "cell_type": "code",
   "execution_count": 68,
   "id": "f3a9232e-fc27-4557-96b3-7b05935b297e",
   "metadata": {
    "tags": []
   },
   "outputs": [],
   "source": [
    "data, train_data, test_data = get_rating_data(rating, use_minimum=WITH_MINIMUM)"
   ]
  },
  {
   "cell_type": "code",
   "execution_count": 69,
   "id": "71533625-170b-46bd-9444-dcd4a9fef1f4",
   "metadata": {
    "tags": []
   },
   "outputs": [
    {
     "data": {
      "text/plain": [
       "1261911"
      ]
     },
     "execution_count": 69,
     "metadata": {},
     "output_type": "execute_result"
    }
   ],
   "source": [
    "len(train_data)"
   ]
  },
  {
   "cell_type": "code",
   "execution_count": 70,
   "id": "eccd09b6-20ed-464b-9d57-221aabf0e3fb",
   "metadata": {
    "tags": []
   },
   "outputs": [
    {
     "data": {
      "text/plain": [
       "315478"
      ]
     },
     "execution_count": 70,
     "metadata": {},
     "output_type": "execute_result"
    }
   ],
   "source": [
    "len(test_data)"
   ]
  },
  {
   "cell_type": "markdown",
   "id": "061e0a26-0c38-45a2-948d-18b44cb53605",
   "metadata": {
    "jp-MarkdownHeadingCollapsed": true,
    "tags": []
   },
   "source": [
    "# 5 - Content-based filtering\n",
    "In content-based filtering, we use the features of items (in our case, anime) to recommend similar items to users who have shown interest in a particular item. The method relies on the assumption that if a user has liked a certain item in the past, they are likely to be interested in items that share similar features. We will calculate the similarity between the item the user has shown interest in and all other items in the dataset, and recommend the most similar items to the user. "
   ]
  },
  {
   "cell_type": "code",
   "execution_count": 71,
   "id": "f3e9e4fd-7625-4969-82aa-db0042ceca33",
   "metadata": {
    "tags": []
   },
   "outputs": [],
   "source": [
    "def get_similarities(\n",
    "    df_a: pd.DataFrame,\n",
    "    df_r: pd.DataFrame,\n",
    "    user_id: int=USER_ID,\n",
    "    N: int=TOP_N\n",
    ") -> set[tuple[str, float, int]]:\n",
    "    \"\"\"\n",
    "    Get the top N anime recommendations for a specific user based on their past ratings.\n",
    "\n",
    "    Args:\n",
    "    - df_a (pd.DataFrame): The DataFrame containing anime metadata.\n",
    "    - df_r (pd.DataFrame): The DataFrame containing anime ratings.\n",
    "    - user_id (int): The ID of the user to make recommendations for. Defaults to USER_ID.\n",
    "    - N (int): The number of recommendations to return. Defaults to TOP_N.\n",
    "\n",
    "    Returns:\n",
    "    - set[tuple[str, float, int]]: A set of tuples, where each tuple contains the name, rating, and number of members of an anime.\n",
    "\n",
    "    \"\"\"\n",
    "    # Rename rating column to 'user_rating'\n",
    "    df_r.rename(columns = {'rating':'user_rating'}, inplace = True)\n",
    "    \n",
    "    # Merge anime and rating dataframes on anime_id\n",
    "    anime_ratings = pd.merge(df_a, df_r, on='anime_id')\n",
    "    \n",
    "    # Subset ratings dataframe to include only ratings made by the specific user_id\n",
    "    user_ratings = anime_ratings[anime_ratings['user_id'] == user_id]\n",
    "    \n",
    "    # Define features to use for similarity calculation\n",
    "    features = ['anime_id', 'genre', 'type', 'episodes', 'rating', 'members']\n",
    "    user_features = user_ratings[features]\n",
    "    anime_features = anime_ratings[features].iloc[:, :user_features.shape[1]]\n",
    "    \n",
    "    # Compute cosine similarity between user's preferences and all anime in dataset\n",
    "    similarities = cosine_similarity(user_features, anime_features)[0]\n",
    "    \n",
    "    # Sort anime by similarity score and return top N recommendations\n",
    "    indices = similarities.argsort()[::-1][:N]\n",
    "    \n",
    "    # Check that indices contain valid anime_ids\n",
    "    valid_indices = []\n",
    "    for index in indices:\n",
    "        anime_id = anime.iloc[index]['anime_id']\n",
    "        if anime_id != 0:\n",
    "            valid_indices.append(index)\n",
    "            \n",
    "    top_n_anime = anime.iloc[valid_indices]\n",
    "    anime_set = set()\n",
    "    for _, row in top_n_anime.iterrows():\n",
    "        anime_set.add((row['name'], row['rating'], row['members']))\n",
    "        \n",
    "    return anime_set"
   ]
  },
  {
   "cell_type": "code",
   "execution_count": 72,
   "id": "ddb679ad-cc61-441d-9fe9-18ac1f7b8fd0",
   "metadata": {
    "jupyter": {
     "source_hidden": true
    },
    "tags": []
   },
   "outputs": [],
   "source": [
    "def get_top_N(\n",
    "    anime: pd.DataFrame,\n",
    "    predictions: list[tuple[int, int, float, float, dict]], \n",
    "    user_id: int=USER_ID,\n",
    "    n: int=TOP_N,\n",
    "    threshold: float=THRESHOLD\n",
    ") -> list[tuple[str, float, int]]:\n",
    "    \"\"\"\n",
    "    Given a pandas dataframe containing anime information, a list of predictions output by the surprise model, \n",
    "    a user ID, and optional parameters for the number of recommendations to return and the minimum threshold\n",
    "    for the anime rating, returns a list of tuples containing the title, average score, and number of scores\n",
    "    for the top N anime recommended for the specified user.\n",
    "    \n",
    "    Args:\n",
    "    - anime (pd.DataFrame): A pandas dataframe containing anime information, including anime_id, name, \n",
    "        genre, type, episodes, rating, and members.\n",
    "    - predictions (list[tuple[int, int, float, float, dict]]): A list of tuples output by the surprise model, \n",
    "        containing the user ID, anime ID, true rating, estimated rating, and additional details.\n",
    "    - user_id (int, optional): The ID of the user for whom recommendations will be generated. Defaults to USER_ID.\n",
    "    - n (int, optional): The number of recommendations to return. Defaults to TOP_N.\n",
    "    - threshold (float, optional): The minimum threshold for the anime rating. Defaults to THRESHOLD.\n",
    "    \n",
    "    Returns:\n",
    "    - list[tuple[str, float, int]]: A list of tuples containing the title, average score, and number of scores\n",
    "        for the top N anime recommended for the specified user.\n",
    "    \"\"\"\n",
    "    # Create a dictionary to store the top N recommendations for each user\n",
    "    top_n = defaultdict(list)\n",
    "\n",
    "    # Loop through each prediction in the test predictions\n",
    "    for uid, iid, true_r, est, _ in predictions:\n",
    "        # Store the estimated rating for this item\n",
    "        top_n[uid].append((iid, est))\n",
    "    \n",
    "    # Loop through each user in the dictionary and sort their recommendations by estimated rating\n",
    "    for uid, user_ratings in top_n.items():\n",
    "        user_ratings.sort(key=lambda x: x[1], reverse=True)\n",
    "        \n",
    "    # Get the top N recommendations for the specified user\n",
    "    top_n_for_user = [iid for (iid, _) in top_n[user_id][:n]]\n",
    "    # Get the top N recommendations for the specified user\n",
    "    top_n_for_user = top_n[user_id][:n]\n",
    "    top_n_for_user = [(iid, est) for (iid, est) in top_n[user_id] if anime[anime['anime_id'] == int(iid)]['rating'].values[0] >= threshold][:n]\n",
    "    # Create a list of tuples containing the title, average score, and number of scores for each recommended item\n",
    "    results = []\n",
    "    for item_id, estimated_rating in top_n_for_user:\n",
    "        item = anime[anime['anime_id'] == int(item_id)]\n",
    "        title = item['name'].values[0]\n",
    "        avg_score = item['rating'].values[0]\n",
    "        num_scores = item['members'].values[0]\n",
    "        results.append((title, avg_score, num_scores))\n",
    "    \n",
    "    # Return the list of recommended items with their titles, average scores, and number of scores\n",
    "    return results"
   ]
  },
  {
   "cell_type": "code",
   "execution_count": 73,
   "id": "7f149e8b-a31c-4b29-80d3-9411fb88a375",
   "metadata": {
    "tags": []
   },
   "outputs": [],
   "source": [
    "topN_Similarities = get_similarities(anime, rating)"
   ]
  },
  {
   "cell_type": "code",
   "execution_count": 74,
   "id": "2f52f270-0523-4d26-9f38-70119bf94015",
   "metadata": {
    "tags": []
   },
   "outputs": [
    {
     "name": "stdout",
     "output_type": "stream",
     "text": [
      "\n",
      "Top 10 for 244\n",
      "+-----------------------------------------+---------------+------------------+\n",
      "|                  Title                  | Average score | Number of scores |\n",
      "+-----------------------------------------+---------------+------------------+\n",
      "|                 Kuruneko                |      7.63     |       2526       |\n",
      "|              Kimi no Na wa.             |      9.37     |      200630      |\n",
      "|  Hokuto no Ken: Raoh Gaiden Gekitou-hen |      7.63     |       4614       |\n",
      "|          Initial D Battle Stage         |      7.63     |      13633       |\n",
      "|      Angel Beats!: Another Epilogue     |      7.63     |      134180      |\n",
      "|           Hakuouki Reimeiroku           |      7.63     |      29485       |\n",
      "|   Konnichiwa Anne: Before Green Gables  |      7.63     |       2723       |\n",
      "|          Love Live! Sunshine!!          |      7.63     |      45246       |\n",
      "|                Shigofumi                |      7.62     |      54000       |\n",
      "| Mardock Scramble: The First Compression |      7.63     |      40698       |\n",
      "+-----------------------------------------+---------------+------------------+\n"
     ]
    }
   ],
   "source": [
    "display_top_N(topN_Similarities, user_id=244)"
   ]
  },
  {
   "cell_type": "markdown",
   "id": "041b5881-d6e2-4cce-acc2-a7bec2172bf6",
   "metadata": {
    "tags": []
   },
   "source": [
    "# 6 - Collaborative filtering\n",
    "\n",
    "Collaborative filtering is a technique used in recommender systems to make personalized recommendations for users based on their past interactions with items and the interactions of similar users. This approach is based on the assumption that users who have similar preferences in the past are likely to have similar preferences in the future. Collaborative filtering can be done in two ways: user-based and item-based. In user-based collaborative filtering, recommendations are made based on the preferences of similar users, while in item-based collaborative filtering, recommendations are made based on the similarity between items. "
   ]
  },
  {
   "cell_type": "code",
   "execution_count": 75,
   "id": "07995d22-8338-45c6-b935-55e4b5a1205d",
   "metadata": {
    "jupyter": {
     "source_hidden": true
    },
    "tags": []
   },
   "outputs": [],
   "source": [
    "def get_benchmark(\n",
    "    data: Dataset, \n",
    "    lOO: bool = False\n",
    ") -> pd.DataFrame:\n",
    "    \"\"\"\n",
    "    Generates a benchmark DataFrame for a set of Surprise recommendation algorithms.\n",
    "\n",
    "    Args:\n",
    "    - data: A Surprise Dataset object containing the ratings data to use for training and testing.\n",
    "    - lOO (bool): A boolean to configure the used of LeaveOneOut.\n",
    "\n",
    "    Returns:\n",
    "    - A pandas DataFrame containing the RMSE scores for each algorithm, along with their names.\n",
    "    \"\"\"\n",
    "    \n",
    "    experiment_full_name = f\"{EXPERIMENT}_benchmark_loo.csv\" if lOO else f\"{EXPERIMENT}_benchmark.csv\"\n",
    "    cv = LeaveOneOut() if lOO else 5\n",
    "    \n",
    "    if os.path.exists(os.path.join(DATA_DIR, experiment_full_name)):\n",
    "        # Load pre-existing benchmark DataFrame from CSV file\n",
    "        with open(f\"{EXPERIMENT}_benchmark.csv\", \"rb\") as f:\n",
    "            benchmark_df = load_csv(os.path.join(DATA_DIR, experiment_full_name))\n",
    "            return benchmark_df\n",
    "    else:\n",
    "        benchmark = []\n",
    "        # Iterate over all algorithms\n",
    "        for algorithm in [NormalPredictor(), BaselineOnly(), SVD(), SVDpp(), SlopeOne(), CoClustering()]: #, KNNBasic(), KNNWithMeans(), KNNWithZScore(), KNNBaseline(),\n",
    "            # Perform cross validation\n",
    "            results = cross_validate(algorithm, data, measures=['RMSE'], cv=cv, verbose=False)\n",
    "\n",
    "            # Get results & append algorithm name\n",
    "            tmp = pd.DataFrame.from_dict(results).mean(axis=0)\n",
    "            tmp = tmp.append(pd.Series([str(algorithm).split(' ')[0].split('.')[-1]], index=['Algorithm']))\n",
    "            benchmark.append(tmp)\n",
    "        benchmark_df = pd.DataFrame(benchmark).set_index('Algorithm').sort_values('test_rmse')    \n",
    "        \n",
    "        # Save benchmark DataFrame to CSV file\n",
    "        benchmark_df.to_csv(os.path.join(DATA_DIR, experiment_full_name), index = True)\n",
    "        return benchmark_df"
   ]
  },
  {
   "cell_type": "code",
   "execution_count": 76,
   "id": "bc3f1e79-0b67-42a3-af24-ec72a1ad2200",
   "metadata": {
    "jupyter": {
     "source_hidden": true
    },
    "tags": []
   },
   "outputs": [],
   "source": [
    "def get_hyperparams(\n",
    "    trial: optuna.Trial,\n",
    "    hyperparams_dict: object\n",
    ") -> object:\n",
    "    \"\"\"\n",
    "    Generate hyperparameters for Surprise model using Optuna.\n",
    "\n",
    "    Args:\n",
    "    - trial (optuna.Trial): The optuna trial object.\n",
    "    - hyperparams_dict (dict): A dictionary containing the hyperparameters to optimize.\n",
    "\n",
    "    Returns:\n",
    "    - dict: A dictionary containing the optimized hyperparameters for the Surprise model.\n",
    "\n",
    "    Raises:\n",
    "    - ValueError: If the hyperparameter type is invalid.\n",
    "\n",
    "    \"\"\"\n",
    "    hyperparams = {}\n",
    "    for param, values in hyperparams_dict.items():\n",
    "        if param == \"bsl_options\":\n",
    "            hyperparams[\"bsl_options\"] = {\n",
    "                \"method\" : trial.suggest_categorical(\"method\", [\"als\", \"sgd\"]),\n",
    "                \"n_epochs\" : trial.suggest_int(\"n_epochs\", 5, 20),\n",
    "                \"reg_u\" : trial.suggest_float(\"reg_u\", 5, 10),\n",
    "                \"reg_i\" : trial.suggest_float(\"reg_i\", 5, 10)\n",
    "            }\n",
    "        elif param == \"sim_options\":\n",
    "            hyperparams[\"sim_options\"] = {\n",
    "                \"name\" : trial.suggest_categorical(\"name\", ['cosine', 'msd', 'pearson']),\n",
    "                \"user_based\" : True if trial.suggest_categorical(\"user_based\", [True, False]) else False,\n",
    "                \"min_support\" : trial.suggest_float(\"min_support\", 1, 20)\n",
    "            }\n",
    "        elif values[0] == 'categorical':\n",
    "            if param == 'user_based':\n",
    "                hyperparams[param] = True if trial.suggest_categorical(param, [True, False]) else False\n",
    "            else:\n",
    "                hyperparams[param] = trial.suggest_categorical(param, values[1])\n",
    "        elif values[0] == 'int':\n",
    "            hyperparams[param] = trial.suggest_int(param, values[1], values[2])\n",
    "        elif values[0] == 'uniform':\n",
    "            hyperparams[param] = trial.suggest_uniform(param, values[1], values[2])\n",
    "        elif values[0] == 'loguniform':\n",
    "            hyperparams[param] = trial.suggest_loguniform(param, values[1], values[2])\n",
    "        else:\n",
    "            raise ValueError(f\"Invalid parameter type: {values[0]}\")\n",
    "    return hyperparams"
   ]
  },
  {
   "cell_type": "code",
   "execution_count": 77,
   "id": "c7b4e573-4ada-42e5-8578-3dff51108b6e",
   "metadata": {
    "tags": []
   },
   "outputs": [],
   "source": [
    "def objective(\n",
    "    trial: any, \n",
    "    data: Dataset, \n",
    "    model: any,\n",
    "    hyperparams: object,\n",
    "    cv: int=5, \n",
    "    verbose: bool=False\n",
    ") -> float:\n",
    "    \"\"\"\n",
    "    Optimize a model with hyperparameters using cross-validation, log the results with mlflow, and return the \n",
    "    minimum RMSE value.\n",
    "    \n",
    "    Args:\n",
    "    - trial: An object representing a single trial of an experiment with a hyperopt optimization algorithm.\n",
    "    - data: A Surprise Dataset object containing the ratings data to use for training and testing.\n",
    "    - model: A Surprise algorithm instance to use for training and testing.\n",
    "    - hyperparams: A dictionary containing hyperparameters to optimize over.\n",
    "    - cv: An optional integer indicating the number of cross-validation folds to use.\n",
    "    - verbose: An optional boolean indicating whether to print out progress information during cross-validation.\n",
    "    \n",
    "    Returns:\n",
    "    - A float representing the minimum RMSE value achieved during cross-validation.\n",
    "    \"\"\"\n",
    "    # Use hyperopt, an Distributed Hyperparameter Optimization, to get the hyperparameters to use for the current trial\n",
    "    options = get_hyperparams(trial, hyperparams) \n",
    "    # Use the selected hyperparameters to instantiate a new model object\n",
    "    if options:\n",
    "        model_instance = model(**options)\n",
    "    else:\n",
    "        model_instance = model()\n",
    "\n",
    "    # Evaluate the model with cross-validation using the Surprise library\n",
    "    results = cross_validate(model_instance, data, measures=['rmse'], cv=cv, verbose=verbose)\n",
    "    # Get the minimum RMSE score from the cross-validation results\n",
    "    rmse = results['test_rmse'].min()\n",
    "    \n",
    "    # Return the minimum RMSE value as the objective value for this trial\n",
    "    return rmse"
   ]
  },
  {
   "cell_type": "code",
   "execution_count": 78,
   "id": "3a33fc6a-366b-405e-ac96-7ce9a746aa7d",
   "metadata": {
    "jupyter": {
     "source_hidden": true
    },
    "tags": []
   },
   "outputs": [],
   "source": [
    "def fit_model(\n",
    "    data: Dataset,\n",
    "    name: str,\n",
    "    model: any,\n",
    "    hyperparams_dict: object=None,\n",
    "    bsl_options: bool=False\n",
    ") -> object:\n",
    "    \"\"\"\n",
    "    Fit a surprise model with the given dataset and hyperparameters using either\n",
    "    Optuna hyperparameter search or a default parameter setting.\n",
    "    \n",
    "    Args:\n",
    "    - data (Dataset): Surprise dataset to use for training and evaluation.\n",
    "    - name (str): A name to identify the model in the experiment.\n",
    "    - model (any): The surprise model to use for training.\n",
    "    - hyperparams_dict (object): Dictionary containing hyperparameters\n",
    "      to be optimized with Optuna. If None, the default hyperparameters will be used.\n",
    "    - bsl_options (bool): Whether to optimize hyperparameters for the SVD baseline algorithm.\n",
    "      Default is False.\n",
    "    \n",
    "    Returns:\n",
    "    - object: A dictionary containing the trained model, best hyperparameters\n",
    "      (if hyperparams_dict is not None), and the RMSE score of the best model.\n",
    "    \"\"\"\n",
    "    EXPERIMENT_NAME = f\"{EXPERIMENT}-{name}\"\n",
    "    if os.path.exists(f\"{PKL_MODEL_DIR}\\\\{EXPERIMENT_NAME}.pkl\"):\n",
    "        with open(f\"{PKL_MODEL_DIR}\\\\{EXPERIMENT_NAME}.pkl\", \"rb\") as f:\n",
    "            model = pickle.load(f)\n",
    "            return model\n",
    "    else:\n",
    "        print(f\"Model {name} not exist yet.\")\n",
    "        # Set up the experiment\n",
    "        mlflow.set_experiment(EXPERIMENT_NAME)\n",
    "\n",
    "        # Fit the model\n",
    "        with mlflow.start_run(run_name=\"fit_model\", nested=True) as run:\n",
    "            run_id = run.info.run_id\n",
    "            if hyperparams_dict is None:\n",
    "                # Train the model using default hyperparameters\n",
    "                best_model = model().fit(data.build_full_trainset()) # fit on the whole train data set\n",
    "                \n",
    "                # Register model locally in pickle file\n",
    "                save_model({'model': best_model}, EXPERIMENT_NAME)\n",
    "\n",
    "                # Log model and experiment parameters\n",
    "                mlflow.sklearn.log_model(best_model, \"models\")\n",
    "                mlflow.register_model(f\"runs:/{run_id}/models\", EXPERIMENT_NAME)\n",
    "                # mlflow.log_param('MAX_USER_RATING', MAX_USER_RATING)\n",
    "                # mlflow.log_param('MAX_RATINGS_PER_ANIME', MAX_RATINGS_PER_ANIME)\n",
    "                # mlflow.log_param('MIN_RATING', MIN_RATING)\n",
    "                # Stage the model in production\n",
    "                client.transition_model_version_stage(\n",
    "                    name=EXPERIMENT_NAME, version=1, stage=\"Production\"\n",
    "                )\n",
    "\n",
    "                # Return the trained model\n",
    "                return {'model': best_model}\n",
    "            else:\n",
    "                # Set up Optuna study\n",
    "                study = optuna.create_study(\n",
    "                    storage=OPTUNA_DB,  \n",
    "                    study_name=name,\n",
    "                    pruner=optuna.pruners.PatientPruner(None, patience=PATIENCE),\n",
    "                    direction='minimize',\n",
    "                    load_if_exists=True)\n",
    "\n",
    "                # Run the hyperparameter search\n",
    "                study.optimize(lambda trial: objective(trial, data, model, hyperparams_dict), n_trials=N_TRIAL)\n",
    "\n",
    "                # Get the best hyperparameters and the best score\n",
    "                best_hyperparameters = study.best_params\n",
    "                if bsl_options:\n",
    "                    best_hyperparameters = {'bsl_options': {'method': best_hyperparameters['method'], \n",
    "                                                        'n_epochs': best_hyperparameters['n_epochs'], \n",
    "                                                        'reg_i': best_hyperparameters['reg_i'], \n",
    "                                                        'reg_u': best_hyperparameters['reg_u']}}\n",
    "                fit_rmse = study.best_value\n",
    "                best_model = model(**best_hyperparameters)\n",
    "\n",
    "                # Fit the model with the best hyperparameters\n",
    "                best_model.fit(data.build_full_trainset()) # fit on the whole train data set\n",
    "\n",
    "                # Register model locally in pickle file\n",
    "                save_model({'model': best_model, 'hyperparameters': best_hyperparameters, 'fit_rmse': fit_rmse}, EXPERIMENT_NAME)\n",
    "\n",
    "                mlflow.sklearn.log_model(best_model, \"models\")\n",
    "                # Register the model with mlflow\n",
    "                mlflow.register_model(f\"runs:/{run_id}/models\", EXPERIMENT_NAME)\n",
    "                # Log the model parameters and performance metrics with mlflow\n",
    "                mlflow.log_params(best_hyperparameters)\n",
    "                # mlflow.log_param('MAX_USER_RATING', MAX_USER_RATING)\n",
    "                # mlflow.log_param('MAX_RATINGS_PER_ANIME', MAX_RATINGS_PER_ANIME)\n",
    "                # mlflow.log_param('MIN_RATING', MIN_RATING)\n",
    "                mlflow.log_metric(\"rmse\", fit_rmse)\n",
    "                # Stage the model in production\n",
    "                client.transition_model_version_stage(\n",
    "                    name=EXPERIMENT_NAME, version=1, stage=\"Production\"\n",
    "                )\n",
    "\n",
    "                # Return the best model with the best hyperparameters and the score\n",
    "                return {'model': best_model, 'hyperparameters': best_hyperparameters, 'fit_rmse': fit_rmse}"
   ]
  },
  {
   "cell_type": "code",
   "execution_count": 79,
   "id": "3d8c67f1-1e7c-4d67-983c-4e8ffb64c194",
   "metadata": {
    "jupyter": {
     "source_hidden": true
    },
    "tags": []
   },
   "outputs": [],
   "source": [
    "def calculate_metrics(\n",
    "    predictions: list[tuple[int, int, float, float, any]],\n",
    "    data: list[tuple[int, int, float]],\n",
    "    threshold: float\n",
    ") -> object:\n",
    "    \"\"\"\n",
    "    Calculate various evaluation metrics for a given set of predictions.\n",
    "\n",
    "    Args:\n",
    "    - predictions (list[tuple[int, int, float, float, any]]): A list of tuples containing the user id, item id, true rating, estimated rating, and additional information (if any) for each prediction.\n",
    "    - data (list[tuple[int, int, float]]): A list of tuples containing the user id, item id, and rating for each data point.\n",
    "    - threshold (float): The threshold above which a rating is considered positive.\n",
    "\n",
    "    Returns:\n",
    "    - metrics (object): A dictionary containing the evaluation metrics.\n",
    "    \"\"\"\n",
    "    # User coverage\n",
    "    recommended_users = set()\n",
    "    n_users = len(set([t[0] for t in data]))\n",
    "    for uid, iid, true_r, est, _ in predictions:\n",
    "        recommended_users.add(uid)\n",
    "\n",
    "    # Initialize a dictionary to store the evaluation results\n",
    "    metrics = defaultdict(float)\n",
    "\n",
    "    # Define y_true and y_pred\n",
    "    y_true = [true_r for uid, iid, true_r, est, _ in predictions]\n",
    "    y_pred = [est if est >= threshold else threshold for uid, iid, true_r, est, _ in predictions]\n",
    "\n",
    "    # Calculate various evaluation metrics\n",
    "    metrics['hit_rate'] = len(set(y_true) & set(y_pred)) /  len(set(y_true)) if len(set(y_true)) != 0 else 1\n",
    "    metrics['mae'] = accuracy.mae(predictions)\n",
    "    metrics['rmse'] = accuracy.rmse(predictions)\n",
    "    metrics['user_coverage'] = len(recommended_users) / n_users if n_users != 0 else 0\n",
    "\n",
    "    return metrics"
   ]
  },
  {
   "cell_type": "code",
   "execution_count": 80,
   "id": "fb7592cf-7a2e-4434-836b-41b256ccedaf",
   "metadata": {
    "jupyter": {
     "source_hidden": true
    },
    "tags": []
   },
   "outputs": [],
   "source": [
    "def evaluate_model(\n",
    "    name: str,\n",
    "    model: any,\n",
    "    trainset: list,\n",
    "    testset: list,\n",
    "    threshold: float=THRESHOLD\n",
    ") -> object:\n",
    "    \"\"\"\n",
    "    Evaluates a model on a given dataset and returns the evaluation metrics and predictions.\n",
    "\n",
    "    Args:\n",
    "    - name (str): The name of the model.\n",
    "    - model (Trainset): The model to be evaluated.\n",
    "    - trainset (list): The dataset to be used for biased evaluation.\n",
    "    - testset (list): The dataset to be used for unbiased evaluation.\n",
    "    - threshold (float): The threshold above which a rating is considered positive. Defaults to THRESHOLD.\n",
    "\n",
    "    Returns:\n",
    "    - dict: A dictionary containing the evaluation metrics and the predictions.\n",
    "    \"\"\"\n",
    "    try:\n",
    "        with mlflow.start_run(run_name=\"evaluate_model\", nested=True) as run:\n",
    "            run_id = run.info.run_id\n",
    "            EXPERIMENT_NAME = f\"{EXPERIMENT}-{name}\"\n",
    "            mlflow.set_experiment(EXPERIMENT_NAME)\n",
    "\n",
    "            # Compute biased and unbiased predictions\n",
    "            biased_predictions = model.test(trainset)\n",
    "            unbiased_predictions = model.test(testset)\n",
    "\n",
    "            # Calculate evaluation metrics for biased and unbiased predictions\n",
    "            biased_metrics = calculate_metrics(biased_predictions, trainset, threshold)\n",
    "            unbiased_metrics = calculate_metrics(unbiased_predictions, testset, threshold)\n",
    "\n",
    "            # Log the model and the evaluation metrics to MLflow\n",
    "            mlflow.sklearn.log_model(model, \"models\")\n",
    "            mlflow.register_model(f\"runs:/{run_id}/models\", EXPERIMENT_NAME)\n",
    "\n",
    "            for metric, value in biased_metrics.items():\n",
    "                mlflow.log_metric(f'biased_{metric}', value)\n",
    "            for metric, value in unbiased_metrics.items():\n",
    "                mlflow.log_metric(f'unbiased{metric}', value)\n",
    "\n",
    "            # Create a PrettyTable for displaying the evaluation metrics\n",
    "            table = PrettyTable()\n",
    "            table.field_names = [\"Metric\", \"Value\"]\n",
    "            for metric, value in biased_metrics.items():\n",
    "                table.add_row([f'biased_{metric}', f'{value:.2f}'])\n",
    "            for metric, value in unbiased_metrics.items():\n",
    "                table.add_row([f'unbiased_{metric}', f'{value:.2f}'])\n",
    "            print(table)\n",
    "\n",
    "            return {'biased_metrics': biased_metrics, 'unbiased_metrics': unbiased_metrics, 'unbiased_predictions': unbiased_predictions, 'biased_predictions': biased_predictions}\n",
    "    except Exception as e:\n",
    "        print(e)\n",
    "        return None"
   ]
  },
  {
   "cell_type": "code",
   "execution_count": 81,
   "id": "bdbc04d1-00e1-4ee5-9cbf-9c1598195089",
   "metadata": {
    "jupyter": {
     "source_hidden": true
    },
    "tags": []
   },
   "outputs": [],
   "source": [
    "def get_top_N(\n",
    "    anime: pd.DataFrame,\n",
    "    predictions: list[tuple],\n",
    "    user_id: int=USER_ID,\n",
    "    n: int=TOP_N,\n",
    "    threshold: float=THRESHOLD\n",
    ") -> list[tuple[str, float, int]]:\n",
    "    \"\"\"\n",
    "    Given a DataFrame of anime, a list of predictions, a user ID, and optional parameters for the number of recommendations\n",
    "    to generate and the rating threshold, returns a list of top N anime recommendations for the specified user, along with \n",
    "    each recommended item's title, average score, and number of scores.\n",
    "    \n",
    "    Args:\n",
    "    - anime: A DataFrame of anime data, including anime IDs, titles, ratings, and member counts.\n",
    "    - predictions: A list of tuples representing predicted ratings for each user-item pair in the test set, in the format\n",
    "                 (user_id, item_id, true_rating, estimated_rating, _).\n",
    "    - user_id: An integer representing the user ID for which to generate recommendations. Defaults to USE_ID.\n",
    "    - n: An integer representing the number of recommendations to generate for the specified user. Defaults to TOP_N.\n",
    "    - threshold: A float representing the minimum rating threshold for recommended items. Defaults to THRESHOLD.\n",
    "    \n",
    "    Returns:\n",
    "        A list of tuples representing the top N recommended anime for the specified user, each in the format \n",
    "        (title, average_score, num_scores).\n",
    "    \"\"\"\n",
    "    # Create a dictionary to store the top N recommendations for each user\n",
    "    top_n = defaultdict(list)\n",
    "\n",
    "    # Loop through each prediction in the test predictions\n",
    "    for uid, iid, true_r, est, _ in predictions:\n",
    "        # Store the estimated rating for this item\n",
    "        top_n[uid].append((iid, est))\n",
    "    # Loop through each user in the dictionary and sort their recommendations by estimated rating\n",
    "    for uid, user_ratings in top_n.items():\n",
    "        user_ratings.sort(key=lambda x: x[1], reverse=True)\n",
    "        \n",
    "    # Get the top N recommendations for the specified user\n",
    "    top_n_for_user = [(iid, est) for (iid, est) in top_n[user_id] if anime[anime['anime_id'] == int(iid)]['rating'].values[0] >= threshold][:n]\n",
    "\n",
    "    # Create a list of tuples containing the title, average score, and number of scores for each recommended item\n",
    "    results = []\n",
    "    for item_id, estimated_rating in top_n_for_user:\n",
    "        item = anime[anime['anime_id'] == int(item_id)]\n",
    "        title = item['name'].values[0]\n",
    "        avg_score = item['rating'].values[0]\n",
    "        num_scores = item['members'].values[0]\n",
    "        results.append((title, avg_score, num_scores))\n",
    "    \n",
    "    # Return the list of recommended items with their titles, average scores, and number of scores\n",
    "    return results"
   ]
  },
  {
   "cell_type": "markdown",
   "id": "6c711caa-44e8-4a07-ae74-1ac0934da7b8",
   "metadata": {
    "tags": []
   },
   "source": [
    "### 6-0 - Overview"
   ]
  },
  {
   "cell_type": "code",
   "execution_count": 82,
   "id": "5584f9b4-6f91-46ef-bd8f-920ef5d19dd5",
   "metadata": {
    "tags": []
   },
   "outputs": [],
   "source": [
    "# Uncomment to create benchmark\n",
    "# benchmark_df = get_benchmark(data)"
   ]
  },
  {
   "cell_type": "code",
   "execution_count": 83,
   "id": "70b1295f-3492-470d-bdf2-ce63a53e1b71",
   "metadata": {
    "tags": []
   },
   "outputs": [
    {
     "data": {
      "text/html": [
       "<div>\n",
       "<style scoped>\n",
       "    .dataframe tbody tr th:only-of-type {\n",
       "        vertical-align: middle;\n",
       "    }\n",
       "\n",
       "    .dataframe tbody tr th {\n",
       "        vertical-align: top;\n",
       "    }\n",
       "\n",
       "    .dataframe thead th {\n",
       "        text-align: right;\n",
       "    }\n",
       "</style>\n",
       "<table border=\"1\" class=\"dataframe\">\n",
       "  <thead>\n",
       "    <tr style=\"text-align: right;\">\n",
       "      <th></th>\n",
       "      <th>Algorithm</th>\n",
       "      <th>test_rmse</th>\n",
       "      <th>fit_time</th>\n",
       "      <th>test_time</th>\n",
       "    </tr>\n",
       "  </thead>\n",
       "  <tbody>\n",
       "    <tr>\n",
       "      <th>0</th>\n",
       "      <td>SVD</td>\n",
       "      <td>3.000908</td>\n",
       "      <td>11.345545</td>\n",
       "      <td>4.569087</td>\n",
       "    </tr>\n",
       "    <tr>\n",
       "      <th>1</th>\n",
       "      <td>SVDpp</td>\n",
       "      <td>3.001033</td>\n",
       "      <td>86.706086</td>\n",
       "      <td>47.654577</td>\n",
       "    </tr>\n",
       "    <tr>\n",
       "      <th>2</th>\n",
       "      <td>CoClustering</td>\n",
       "      <td>3.001159</td>\n",
       "      <td>21.882150</td>\n",
       "      <td>3.881786</td>\n",
       "    </tr>\n",
       "    <tr>\n",
       "      <th>3</th>\n",
       "      <td>KNNBaseline</td>\n",
       "      <td>3.001356</td>\n",
       "      <td>29.073506</td>\n",
       "      <td>155.477129</td>\n",
       "    </tr>\n",
       "    <tr>\n",
       "      <th>4</th>\n",
       "      <td>KNNWithMeans</td>\n",
       "      <td>3.001358</td>\n",
       "      <td>25.657233</td>\n",
       "      <td>144.901536</td>\n",
       "    </tr>\n",
       "    <tr>\n",
       "      <th>5</th>\n",
       "      <td>KNNWithZScore</td>\n",
       "      <td>3.001401</td>\n",
       "      <td>26.755400</td>\n",
       "      <td>149.358888</td>\n",
       "    </tr>\n",
       "    <tr>\n",
       "      <th>6</th>\n",
       "      <td>SlopeOne</td>\n",
       "      <td>3.001408</td>\n",
       "      <td>5.315811</td>\n",
       "      <td>33.581455</td>\n",
       "    </tr>\n",
       "    <tr>\n",
       "      <th>7</th>\n",
       "      <td>BaselineOnly</td>\n",
       "      <td>3.001858</td>\n",
       "      <td>2.074583</td>\n",
       "      <td>2.598070</td>\n",
       "    </tr>\n",
       "    <tr>\n",
       "      <th>8</th>\n",
       "      <td>KNNBasic</td>\n",
       "      <td>3.002762</td>\n",
       "      <td>25.687444</td>\n",
       "      <td>150.441401</td>\n",
       "    </tr>\n",
       "    <tr>\n",
       "      <th>9</th>\n",
       "      <td>NormalPredictor</td>\n",
       "      <td>3.034947</td>\n",
       "      <td>1.370998</td>\n",
       "      <td>2.531927</td>\n",
       "    </tr>\n",
       "  </tbody>\n",
       "</table>\n",
       "</div>"
      ],
      "text/plain": [
       "         Algorithm  test_rmse   fit_time   test_time\n",
       "0              SVD   3.000908  11.345545    4.569087\n",
       "1            SVDpp   3.001033  86.706086   47.654577\n",
       "2     CoClustering   3.001159  21.882150    3.881786\n",
       "3      KNNBaseline   3.001356  29.073506  155.477129\n",
       "4     KNNWithMeans   3.001358  25.657233  144.901536\n",
       "5    KNNWithZScore   3.001401  26.755400  149.358888\n",
       "6         SlopeOne   3.001408   5.315811   33.581455\n",
       "7     BaselineOnly   3.001858   2.074583    2.598070\n",
       "8         KNNBasic   3.002762  25.687444  150.441401\n",
       "9  NormalPredictor   3.034947   1.370998    2.531927"
      ]
     },
     "execution_count": 83,
     "metadata": {},
     "output_type": "execute_result"
    }
   ],
   "source": [
    "benchmark_w_minimum = load_csv(BENCHMARK_W_MINIMUM)\n",
    "benchmark_w_minimum"
   ]
  },
  {
   "cell_type": "code",
   "execution_count": 84,
   "id": "3e3d9e2e-e39f-4be3-9985-b69f0ecc77b9",
   "metadata": {
    "tags": []
   },
   "outputs": [
    {
     "data": {
      "text/html": [
       "<div>\n",
       "<style scoped>\n",
       "    .dataframe tbody tr th:only-of-type {\n",
       "        vertical-align: middle;\n",
       "    }\n",
       "\n",
       "    .dataframe tbody tr th {\n",
       "        vertical-align: top;\n",
       "    }\n",
       "\n",
       "    .dataframe thead th {\n",
       "        text-align: right;\n",
       "    }\n",
       "</style>\n",
       "<table border=\"1\" class=\"dataframe\">\n",
       "  <thead>\n",
       "    <tr style=\"text-align: right;\">\n",
       "      <th></th>\n",
       "      <th>Algorithm</th>\n",
       "      <th>test_rmse</th>\n",
       "      <th>fit_time</th>\n",
       "      <th>test_time</th>\n",
       "    </tr>\n",
       "  </thead>\n",
       "  <tbody>\n",
       "    <tr>\n",
       "      <th>0</th>\n",
       "      <td>SVD</td>\n",
       "      <td>3.083794</td>\n",
       "      <td>28.245734</td>\n",
       "      <td>12.273581</td>\n",
       "    </tr>\n",
       "    <tr>\n",
       "      <th>1</th>\n",
       "      <td>SVDpp</td>\n",
       "      <td>3.084290</td>\n",
       "      <td>161.740540</td>\n",
       "      <td>91.111157</td>\n",
       "    </tr>\n",
       "    <tr>\n",
       "      <th>2</th>\n",
       "      <td>SlopeOne</td>\n",
       "      <td>3.084531</td>\n",
       "      <td>10.901521</td>\n",
       "      <td>65.313976</td>\n",
       "    </tr>\n",
       "    <tr>\n",
       "      <th>3</th>\n",
       "      <td>BaselineOnly</td>\n",
       "      <td>3.084580</td>\n",
       "      <td>5.726482</td>\n",
       "      <td>9.207652</td>\n",
       "    </tr>\n",
       "    <tr>\n",
       "      <th>4</th>\n",
       "      <td>CoClustering</td>\n",
       "      <td>3.084990</td>\n",
       "      <td>59.023124</td>\n",
       "      <td>13.315203</td>\n",
       "    </tr>\n",
       "    <tr>\n",
       "      <th>5</th>\n",
       "      <td>NormalPredictor</td>\n",
       "      <td>3.118191</td>\n",
       "      <td>3.606412</td>\n",
       "      <td>9.149063</td>\n",
       "    </tr>\n",
       "  </tbody>\n",
       "</table>\n",
       "</div>"
      ],
      "text/plain": [
       "         Algorithm  test_rmse    fit_time  test_time\n",
       "0              SVD   3.083794   28.245734  12.273581\n",
       "1            SVDpp   3.084290  161.740540  91.111157\n",
       "2         SlopeOne   3.084531   10.901521  65.313976\n",
       "3     BaselineOnly   3.084580    5.726482   9.207652\n",
       "4     CoClustering   3.084990   59.023124  13.315203\n",
       "5  NormalPredictor   3.118191    3.606412   9.149063"
      ]
     },
     "execution_count": 84,
     "metadata": {},
     "output_type": "execute_result"
    }
   ],
   "source": [
    "benchmark_wo_minimum = load_csv(BENCHMARK_WO_MINIMUM)\n",
    "benchmark_wo_minimum"
   ]
  },
  {
   "cell_type": "markdown",
   "id": "eb1e2501-0d8c-4bb0-adfd-05bf34bf8a1c",
   "metadata": {},
   "source": [
    "Based on our benchmark dataframe, we can conclude that using a threshold for a minimum value for rating per anime and number of rating by users is more effective in improving model performance.\n",
    "\n",
    "For the choice of algorithms to use, we recommend the following:\n",
    "\n",
    "- SVD: the fastest and most effective algorithm in our tests\n",
    "- CoClustering: relatively fast and the third most effective algorithm\n",
    "- SlopeOne: relatively fast, but not necessarily needed given its lower rank\n",
    "- BaselineOnly: very fast and can be kept as a comparison model\n",
    "- NormalPredictor: very fast and does not require hyperparameter tuning, making it a good option to keep as a comparison model\n",
    "\n",
    "We found that the following algorithms were too slow and not as effective, and thus do not recommend using them:\n",
    "\n",
    "- SVDpp\n",
    "- KNNBaseline\n",
    "- KNNWithMeans\n",
    "- KNNWithZScore\n",
    "- KNNBasic\n",
    "\n",
    "Overall, our results suggest that a combination of the thresholding approach with the recommended algorithms can lead to improved model performance in collaborative filtering tasks."
   ]
  },
  {
   "cell_type": "markdown",
   "id": "756c9db2-859e-419b-b3f1-77bddd112c7f",
   "metadata": {
    "tags": []
   },
   "source": [
    "### 6-1 - Comparison models"
   ]
  },
  {
   "cell_type": "markdown",
   "id": "614ba1b3-97f7-4f3c-bbc2-8135700a35a2",
   "metadata": {
    "tags": []
   },
   "source": [
    "#### 6-1-1 - Random model Algorithm \n",
    "This algorithm is the most basic collaborative filtering algorithm. It recommends anime titles to users randomly, without taking into account any user preferences or feedback. The accuracy of this algorithm is extremely low, but it provides a useful baseline for comparison with other algorithms."
   ]
  },
  {
   "cell_type": "code",
   "execution_count": 85,
   "id": "5b00b286-51f1-44e2-9d91-dba19162b9db",
   "metadata": {},
   "outputs": [],
   "source": [
    "best_NormalPredictor = fit_model(data, 'NormalPredictor', NormalPredictor)"
   ]
  },
  {
   "cell_type": "code",
   "execution_count": 86,
   "id": "941660c0-95cc-4cab-b855-9e506a3fea94",
   "metadata": {
    "tags": []
   },
   "outputs": [
    {
     "name": "stdout",
     "output_type": "stream",
     "text": [
      "MAE:  2.7186\n",
      "RMSE: 3.0354\n",
      "MAE:  2.7220\n",
      "RMSE: 3.0395\n"
     ]
    },
    {
     "name": "stderr",
     "output_type": "stream",
     "text": [
      "Registered model 'test_w_min_rating-NormalPredictor' already exists. Creating a new version of this model...\n",
      "2023/03/25 17:55:41 INFO mlflow.tracking._model_registry.client: Waiting up to 300 seconds for model version to finish creation.                     Model name: test_w_min_rating-NormalPredictor, version 10\n"
     ]
    },
    {
     "name": "stdout",
     "output_type": "stream",
     "text": [
      "+------------------------+-------+\n",
      "|         Metric         | Value |\n",
      "+------------------------+-------+\n",
      "|    biased_hit_rate     |  0.20 |\n",
      "|       biased_mae       |  2.72 |\n",
      "|      biased_rmse       |  3.04 |\n",
      "|  biased_user_coverage  |  1.00 |\n",
      "|   unbiased_hit_rate    |  0.10 |\n",
      "|      unbiased_mae      |  2.72 |\n",
      "|     unbiased_rmse      |  3.04 |\n",
      "| unbiased_user_coverage |  1.00 |\n",
      "+------------------------+-------+\n"
     ]
    },
    {
     "name": "stderr",
     "output_type": "stream",
     "text": [
      "Created version '10' of model 'test_w_min_rating-NormalPredictor'.\n"
     ]
    }
   ],
   "source": [
    "predictions_NormalPredictor = evaluate_model('NormalPredictor', best_NormalPredictor['model'], train_data, test_data, threshold=0)"
   ]
  },
  {
   "cell_type": "code",
   "execution_count": 87,
   "id": "7019711d-d47d-48e3-8503-f189c6f3fdf5",
   "metadata": {},
   "outputs": [
    {
     "name": "stdout",
     "output_type": "stream",
     "text": [
      "\n",
      "Top 10 for 244\n",
      "+------------------------------------------------------------+---------------+------------------+\n",
      "|                           Title                            | Average score | Number of scores |\n",
      "+------------------------------------------------------------+---------------+------------------+\n",
      "|                         Shigofumi                          |      7.62     |      54000       |\n",
      "|                  Umineko no Naku Koro ni                   |      7.34     |      126865      |\n",
      "|                 Another: The Other - Inga                  |      7.5      |      86261       |\n",
      "|   Gate: Jieitai Kanochi nite, Kaku Tatakaeri 2nd Season    |      7.97     |      153501      |\n",
      "|                     Hellsing: The Dawn                     |      7.37     |      40548       |\n",
      "|                         Inaka Isha                         |      6.88     |      10030       |\n",
      "|                        Love Stage!!                        |      7.69     |      83397       |\n",
      "| Mahou Shoujo Madoka★Magica Movie 3: Hangyaku no Monogatari |      8.5      |      135735      |\n",
      "|                         Mitsudomoe                         |      7.73     |      56483       |\n",
      "|                           GJ-bu                            |      7.48     |      83838       |\n",
      "+------------------------------------------------------------+---------------+------------------+\n"
     ]
    }
   ],
   "source": [
    "topN_NormalPredictor = get_top_N(anime, predictions_NormalPredictor['unbiased_predictions'], user_id=get_user_id(predictions_NormalPredictor['unbiased_predictions']))\n",
    "display_top_N(topN_NormalPredictor, USER_ID)"
   ]
  },
  {
   "cell_type": "markdown",
   "id": "221979c9-564c-4108-a641-6ec5fbd9f2b1",
   "metadata": {
    "tags": []
   },
   "source": [
    "#### 6-1-2 - Baseline only Algorithm \n",
    "This algorithm is a simple collaborative filtering algorithm that uses a baseline estimate to predict user ratings for anime titles. The baseline estimate is based on the average rating for each anime title and the average rating for each user. The algorithm then adjusts these estimates based on the user's deviations from their average rating and the anime title's deviations from its average rating. This algorithm performs better than the random model algorithm, but is still quite basic."
   ]
  },
  {
   "cell_type": "code",
   "execution_count": 88,
   "id": "348794b0-421e-4978-96b8-38a497155323",
   "metadata": {
    "tags": []
   },
   "outputs": [],
   "source": [
    "hyper_BaselineOnly = {\n",
    "    \"bsl_options\": 0\n",
    "}"
   ]
  },
  {
   "cell_type": "code",
   "execution_count": 89,
   "id": "de7cc671-3ec1-40bb-9afc-d248ba92f4dd",
   "metadata": {},
   "outputs": [],
   "source": [
    "best_BaselineOnly = fit_model(data, 'BaselineOnly', BaselineOnly, hyper_BaselineOnly, bsl_options=True)"
   ]
  },
  {
   "cell_type": "code",
   "execution_count": 90,
   "id": "d993c74a-b75e-48fe-9e2b-ad3e5a0231c5",
   "metadata": {
    "tags": []
   },
   "outputs": [
    {
     "name": "stdout",
     "output_type": "stream",
     "text": [
      "MAE:  2.6874\n",
      "RMSE: 3.0014\n",
      "MAE:  2.6905\n",
      "RMSE: 3.0054\n"
     ]
    },
    {
     "name": "stderr",
     "output_type": "stream",
     "text": [
      "Registered model 'test_w_min_rating-BaselineOnly' already exists. Creating a new version of this model...\n",
      "2023/03/25 17:55:55 INFO mlflow.tracking._model_registry.client: Waiting up to 300 seconds for model version to finish creation.                     Model name: test_w_min_rating-BaselineOnly, version 10\n"
     ]
    },
    {
     "name": "stdout",
     "output_type": "stream",
     "text": [
      "+------------------------+-------+\n",
      "|         Metric         | Value |\n",
      "+------------------------+-------+\n",
      "|    biased_hit_rate     |  0.20 |\n",
      "|       biased_mae       |  2.69 |\n",
      "|      biased_rmse       |  3.00 |\n",
      "|  biased_user_coverage  |  1.00 |\n",
      "|   unbiased_hit_rate    |  0.20 |\n",
      "|      unbiased_mae      |  2.69 |\n",
      "|     unbiased_rmse      |  3.01 |\n",
      "| unbiased_user_coverage |  1.00 |\n",
      "+------------------------+-------+\n"
     ]
    },
    {
     "name": "stderr",
     "output_type": "stream",
     "text": [
      "Created version '10' of model 'test_w_min_rating-BaselineOnly'.\n"
     ]
    }
   ],
   "source": [
    "predictions_BaselineOnly = evaluate_model('BaselineOnly', best_BaselineOnly['model'], train_data, test_data, threshold=0)"
   ]
  },
  {
   "cell_type": "code",
   "execution_count": 91,
   "id": "143356e9-f7fd-41d6-bbe3-975132a03f28",
   "metadata": {},
   "outputs": [
    {
     "name": "stdout",
     "output_type": "stream",
     "text": [
      "\n",
      "Top 10 for 244\n",
      "+------------------------------------------------------------+---------------+------------------+\n",
      "|                           Title                            | Average score | Number of scores |\n",
      "+------------------------------------------------------------+---------------+------------------+\n",
      "|                           DearS                            |      6.8      |      91037       |\n",
      "|                         Shigofumi                          |      7.62     |      54000       |\n",
      "|                  Umineko no Naku Koro ni                   |      7.34     |      126865      |\n",
      "|                 Another: The Other - Inga                  |      7.5      |      86261       |\n",
      "|   Gate: Jieitai Kanochi nite, Kaku Tatakaeri 2nd Season    |      7.97     |      153501      |\n",
      "|                     Hellsing: The Dawn                     |      7.37     |      40548       |\n",
      "|                         Inaka Isha                         |      6.88     |      10030       |\n",
      "|                        Love Stage!!                        |      7.69     |      83397       |\n",
      "| Mahou Shoujo Madoka★Magica Movie 3: Hangyaku no Monogatari |      8.5      |      135735      |\n",
      "|                         Mitsudomoe                         |      7.73     |      56483       |\n",
      "+------------------------------------------------------------+---------------+------------------+\n"
     ]
    }
   ],
   "source": [
    "topN_BaselineOnly = get_top_N(anime, predictions_BaselineOnly['unbiased_predictions'], user_id=get_user_id(predictions_BaselineOnly['unbiased_predictions']))\n",
    "display_top_N(topN_BaselineOnly)"
   ]
  },
  {
   "cell_type": "code",
   "execution_count": 100,
   "id": "0d4e979c-61d1-4d8f-85bb-a1b9439710d9",
   "metadata": {
    "tags": []
   },
   "outputs": [
    {
     "data": {
      "text/plain": [
       "[('DearS', 6.8, 91037),\n",
       " ('Shigofumi', 7.62, 54000),\n",
       " ('Umineko no Naku Koro ni', 7.34, 126865),\n",
       " ('Another: The Other - Inga', 7.5, 86261),\n",
       " ('Gate: Jieitai Kanochi nite, Kaku Tatakaeri 2nd Season', 7.97, 153501),\n",
       " ('Hellsing: The Dawn', 7.37, 40548),\n",
       " ('Inaka Isha', 6.88, 10030),\n",
       " ('Love Stage!!', 7.69, 83397),\n",
       " ('Mahou Shoujo Madoka★Magica Movie 3: Hangyaku no Monogatari', 8.5, 135735),\n",
       " ('Mitsudomoe', 7.73, 56483)]"
      ]
     },
     "execution_count": 100,
     "metadata": {},
     "output_type": "execute_result"
    }
   ],
   "source": [
    "topN_BaselineOnly"
   ]
  },
  {
   "cell_type": "markdown",
   "id": "48fe6ed0-8a95-437e-b851-851641605e31",
   "metadata": {
    "jp-MarkdownHeadingCollapsed": true,
    "tags": []
   },
   "source": [
    "### 6-2 - KNN Algorithms\n",
    "These algorithms uses the k-nearest neighbors approach to collaborative filtering. It computes the similarities between users or items and selects the k most similar neighbors to make predictions. The algorithm can use different similarity metrics, such as cosine similarity or Pearson correlation, to compute similarities between users or items. The KNN algorithm typically performs better than the random model and baseline only algorithms."
   ]
  },
  {
   "cell_type": "code",
   "execution_count": 92,
   "id": "c21453d3-7130-457c-8584-3daa26fcdacb",
   "metadata": {
    "jupyter": {
     "source_hidden": true
    },
    "tags": []
   },
   "outputs": [],
   "source": [
    "def display_knn(predictions: object) -> None:\n",
    "    \"\"\"Visualize the predicted vs. actual ratings for the k-NN model using a scatter plot.\n",
    "\n",
    "    Args:\n",
    "    - predictions (dict): A dictionary containing the k-NN model predictions and metrics.\n",
    "\n",
    "    Returns:\n",
    "    - None.\n",
    "    \"\"\"\n",
    "    # Extract the predicted and actual ratings for each user-item pair\n",
    "    y_pred = [pred[3] for pred in predictions['predictions']]\n",
    "    y_true = [pred[2] for pred in predictions['predictions']]\n",
    "    rmse = predictions['metrics']['mae']\n",
    "    \n",
    "    # Create a scatter plot to visualize the predicted vs. actual ratings\n",
    "    sns.regplot(x=y_true, y=y_pred, scatter_kws={'alpha': 0.5})\n",
    "    plt.xlabel('Actual Ratings')\n",
    "    plt.ylabel('Predicted Ratings')\n",
    "    plt.ylim(0, 10)\n",
    "    plt.title(f'k-NN Model Performance (RMSE = {rmse:.3f})')\n",
    "    plt.show()"
   ]
  },
  {
   "cell_type": "markdown",
   "id": "443dbbc5-601b-4361-b603-741ed7308f92",
   "metadata": {
    "jp-MarkdownHeadingCollapsed": true,
    "tags": []
   },
   "source": [
    "#### 6-2-1 - KNNBasic\n",
    "This is the basic version of KNN, which predicts a rating by taking a weighted average of the ratings of K nearest neighbors to the user-item pair being predicted. The weights are calculated based on the similarity between the users/items."
   ]
  },
  {
   "cell_type": "code",
   "execution_count": 93,
   "id": "198a9c92-b381-4a22-aac1-827de1ac5d66",
   "metadata": {
    "tags": []
   },
   "outputs": [],
   "source": [
    "# Uncomment to test KNNBasic\n",
    "# hyper_KNNBasic = {\n",
    "#     \"name\": [\"categorical\", [\"pearson\"]],\n",
    "#     \"user_based\": [\"categorical\", 0],\n",
    "#     \"k\": [\"int\", 20, 40],\n",
    "#     \"min_k\": [\"int\", 1, 10],\n",
    "# }\n",
    "# best_KNNBasic = fit_model(data, 'KNNBasic', KNNBasic, hyper_KNNBasic)\n",
    "# predictions_KNNBasic = evaluate_model('KNNBasic', best_KNNBasic['model'], train_data, test_data, threshold=0)\n",
    "# topN_KNNBasic = get_top_N(anime, predictions_KNNBasic['predictions'], user_id=get_user_id(predictions_KNNBasic['predictions']))\n",
    "# display_top_N(topN_KNNBasic)"
   ]
  },
  {
   "cell_type": "markdown",
   "id": "824958ee-cf76-4ce9-9936-ef822b33ef44",
   "metadata": {
    "jp-MarkdownHeadingCollapsed": true,
    "tags": []
   },
   "source": [
    "#### 6-2-2 - KNNWithMeans \n",
    "This variant of KNN is similar to KNNBasic, but it takes into account the mean rating of each user/item when calculating the similarity between them. This is done to account for user/item biases in the data."
   ]
  },
  {
   "cell_type": "code",
   "execution_count": 94,
   "id": "7ddc7382-21cd-406f-ace2-b6d792645609",
   "metadata": {},
   "outputs": [],
   "source": [
    "# Uncomment to test KNNBasic\n",
    "# hyper_KNNWithMeans = {\n",
    "#     \"name\": [\"categorical\", [\"pearson\"]],\n",
    "#     \"user_based\": [\"categorical\", _],\n",
    "#     \"min_support\": [\"int\", 1, 2],\n",
    "#     \"k\": [\"int\", 20, 40],\n",
    "#     \"min_k\": [\"int\", 1, 10],\n",
    "# }\n",
    "# best_KNNWithMeans = fit_model(data, 'KNNWithMeans', KNNWithMeans, hyper_KNNWithMeans)\n",
    "# predictions_KNNWithMeans = evaluate_model('KNNWithMeans', best_KNNWithMeans['model'], train_data, test_data)\n",
    "# topN_KNNWithMeans = get_top_N(anime, predictions_KNNWithMeans['predictions'], user_id=get_user_id(predictions_KNNWithMeans['predictions']))\n",
    "# display_top_N(topN_KNNWithMeans)"
   ]
  },
  {
   "cell_type": "markdown",
   "id": "7ad1d58c-cee1-497c-bef3-f844d74163ab",
   "metadata": {
    "jp-MarkdownHeadingCollapsed": true,
    "tags": []
   },
   "source": [
    "#### 6-2-3 - KNNWithZScore \n",
    "This is another variant of KNN that takes into account the mean and standard deviation of each user/item when calculating the similarity between them. This is done to normalize the data and account for the scale differences between users/items."
   ]
  },
  {
   "cell_type": "code",
   "execution_count": 95,
   "id": "9277dc30-5021-451d-b0ef-ee3c0bedb33c",
   "metadata": {},
   "outputs": [],
   "source": [
    "# Uncomment to test KNNWithZScore\n",
    "# hyper_KNNWithZScore = {\n",
    "#     \"name\": [\"categorical\", ['cosine', 'msd', 'pearson']],\n",
    "#     \"user_based\": [\"categorical\", 'user'],\n",
    "#     \"min_support\": [\"int\", 1, 20],\n",
    "#     \"k\": [\"int\", 20, 40],\n",
    "#     \"min_k\": [\"int\", 1, 10],\n",
    "# }\n",
    "# best_KNNWithZScore = fit_model(data, 'KNNWithZScore', KNNWithZScore, hyper_KNNWithZScore)\n",
    "# predictions_KNNWithZScore = evaluate_model('KNNWithZScore', best_KNNWithZScore['model'], train_data, test_data)\n",
    "# topN_KNNWithZScore = get_top_N(anime, predictions_KNNWithZScore['predictions'], user_id=get_user_id(predictions_KNNWithZScore['predictions']))\n",
    "# display_top_N(topN_KNNWithZScore)"
   ]
  },
  {
   "cell_type": "markdown",
   "id": "95336f89-6d54-4138-bfdb-3ca8558cc21c",
   "metadata": {
    "jp-MarkdownHeadingCollapsed": true,
    "tags": []
   },
   "source": [
    "#### 6-2-4 - KNNBaseline\n",
    "This variant of KNN incorporates a baseline estimate of the ratings into the calculation of the similarity between users/items. The baseline estimate is calculated based on the global mean rating, the mean rating of each user, and the mean rating of each item. This helps to account for the different rating scales and biases in the data."
   ]
  },
  {
   "cell_type": "code",
   "execution_count": 96,
   "id": "1abef9b2-6638-47bc-81bd-47f2a702ecca",
   "metadata": {},
   "outputs": [],
   "source": [
    "# hyper_KNNBaseline = {\n",
    "#     \"sim_options\": 0,\n",
    "#     \"k\": [\"int\", 20, 40],\n",
    "#     \"min_k\": [\"int\", 1, 10],\n",
    "#     \"bsl_options\": 0,\n",
    "# }\n",
    "# best_KNNBaseline = fit_model(data, 'KNNBaseline', KNNBaseline, hyper_KNNBaseline)\n",
    "# predictions_KNNBaseline = evaluate_model('KNNBaseline', best_KNNBaseline['model'], train_data, test_data)\n",
    "# topN_KNNBaseline = get_top_N(anime, predictions_KNNBaseline['predictions'], user_id=get_user_id(predictions_KNNBaseline['predictions']))\n",
    "# display_top_N(topN_KNNBaseline)"
   ]
  },
  {
   "cell_type": "markdown",
   "id": "93224323-5364-48aa-9961-ccd7080141ad",
   "metadata": {
    "tags": []
   },
   "source": [
    "###  6-3 - Matrix factorization\n",
    "These algorithms uses matrix factorization techniques to decompose the user-item matrix into lower-dimensional matrices that capture latent features of users and items. The algorithm then uses these matrices to predict user ratings for anime titles. "
   ]
  },
  {
   "cell_type": "markdown",
   "id": "b0f7f60e-3ac7-473b-a3dc-34d8decdd945",
   "metadata": {
    "jp-MarkdownHeadingCollapsed": true,
    "tags": []
   },
   "source": [
    "#### 6-3-1 - SVD\n",
    "SVD, or Singular Value Decomposition, is a matrix factorization method used to reduce the dimensionality of a matrix while preserving the most important information in it.\n",
    "In simpler terms, SVD helps us find the underlying patterns and relationships between the rows and columns of a matrix. This allows us to extract the most important features of the original data and represent it in a lower-dimensional space. "
   ]
  },
  {
   "cell_type": "code",
   "execution_count": 97,
   "id": "68b72aec-0b87-44df-916c-bd57a762ed0a",
   "metadata": {},
   "outputs": [],
   "source": [
    "hyper_SVD = {\n",
    "    \"n_factors\": [\"int\", 50, 200],\n",
    "    \"n_epochs\": [\"int\", 10, 50],\n",
    "    \"lr_all\": [\"loguniform\", 1e-4, 1e-1],\n",
    "    \"reg_all\": [\"loguniform\", 1e-4, 1e-1],\n",
    "}"
   ]
  },
  {
   "cell_type": "code",
   "execution_count": 98,
   "id": "465bedb5-90a1-4e45-8f4d-cac1539a1210",
   "metadata": {
    "tags": []
   },
   "outputs": [],
   "source": [
    "best_SVD = fit_model(data, 'SVD', SVD, hyper_SVD)"
   ]
  },
  {
   "cell_type": "code",
   "execution_count": 99,
   "id": "619a2a37-db35-44e7-a7f7-246416fbbc45",
   "metadata": {},
   "outputs": [
    {
     "name": "stdout",
     "output_type": "stream",
     "text": [
      "MAE:  2.6874\n",
      "RMSE: 3.0014\n"
     ]
    },
    {
     "ename": "KeyboardInterrupt",
     "evalue": "",
     "output_type": "error",
     "traceback": [
      "\u001b[1;31m---------------------------------------------------------------------------\u001b[0m",
      "\u001b[1;31mKeyboardInterrupt\u001b[0m                         Traceback (most recent call last)",
      "Cell \u001b[1;32mIn[99], line 1\u001b[0m\n\u001b[1;32m----> 1\u001b[0m predictions_SVD \u001b[38;5;241m=\u001b[39m \u001b[43mevaluate_model\u001b[49m\u001b[43m(\u001b[49m\u001b[38;5;124;43m'\u001b[39;49m\u001b[38;5;124;43mSVD\u001b[39;49m\u001b[38;5;124;43m'\u001b[39;49m\u001b[43m,\u001b[49m\u001b[43m \u001b[49m\u001b[43mbest_SVD\u001b[49m\u001b[43m[\u001b[49m\u001b[38;5;124;43m'\u001b[39;49m\u001b[38;5;124;43mmodel\u001b[39;49m\u001b[38;5;124;43m'\u001b[39;49m\u001b[43m]\u001b[49m\u001b[43m,\u001b[49m\u001b[43m \u001b[49m\u001b[43mtrain_data\u001b[49m\u001b[43m,\u001b[49m\u001b[43m \u001b[49m\u001b[43mtest_data\u001b[49m\u001b[43m)\u001b[49m\n",
      "Cell \u001b[1;32mIn[80], line 33\u001b[0m, in \u001b[0;36mevaluate_model\u001b[1;34m(name, model, trainset, testset, threshold)\u001b[0m\n\u001b[0;32m     31\u001b[0m \u001b[38;5;66;03m# Calculate evaluation metrics for biased and unbiased predictions\u001b[39;00m\n\u001b[0;32m     32\u001b[0m biased_metrics \u001b[38;5;241m=\u001b[39m calculate_metrics(biased_predictions, trainset, threshold)\n\u001b[1;32m---> 33\u001b[0m unbiased_metrics \u001b[38;5;241m=\u001b[39m \u001b[43mcalculate_metrics\u001b[49m\u001b[43m(\u001b[49m\u001b[43munbiased_predictions\u001b[49m\u001b[43m,\u001b[49m\u001b[43m \u001b[49m\u001b[43mtestset\u001b[49m\u001b[43m,\u001b[49m\u001b[43m \u001b[49m\u001b[43mthreshold\u001b[49m\u001b[43m)\u001b[49m\n\u001b[0;32m     35\u001b[0m \u001b[38;5;66;03m# Log the model and the evaluation metrics to MLflow\u001b[39;00m\n\u001b[0;32m     36\u001b[0m mlflow\u001b[38;5;241m.\u001b[39msklearn\u001b[38;5;241m.\u001b[39mlog_model(model, \u001b[38;5;124m\"\u001b[39m\u001b[38;5;124mmodels\u001b[39m\u001b[38;5;124m\"\u001b[39m)\n",
      "Cell \u001b[1;32mIn[79], line 31\u001b[0m, in \u001b[0;36mcalculate_metrics\u001b[1;34m(predictions, data, threshold)\u001b[0m\n\u001b[0;32m     28\u001b[0m y_pred \u001b[38;5;241m=\u001b[39m [est \u001b[38;5;28;01mif\u001b[39;00m est \u001b[38;5;241m>\u001b[39m\u001b[38;5;241m=\u001b[39m threshold \u001b[38;5;28;01melse\u001b[39;00m threshold \u001b[38;5;28;01mfor\u001b[39;00m uid, iid, true_r, est, _ \u001b[38;5;129;01min\u001b[39;00m predictions]\n\u001b[0;32m     30\u001b[0m \u001b[38;5;66;03m# Calculate various evaluation metrics\u001b[39;00m\n\u001b[1;32m---> 31\u001b[0m metrics[\u001b[38;5;124m'\u001b[39m\u001b[38;5;124mhit_rate\u001b[39m\u001b[38;5;124m'\u001b[39m] \u001b[38;5;241m=\u001b[39m \u001b[38;5;28mlen\u001b[39m(\u001b[38;5;28mset\u001b[39m(y_true) \u001b[38;5;241m&\u001b[39m \u001b[38;5;28;43mset\u001b[39;49m(y_pred)) \u001b[38;5;241m/\u001b[39m  \u001b[38;5;28mlen\u001b[39m(\u001b[38;5;28mset\u001b[39m(y_true)) \u001b[38;5;28;01mif\u001b[39;00m \u001b[38;5;28mlen\u001b[39m(\u001b[38;5;28mset\u001b[39m(y_true)) \u001b[38;5;241m!=\u001b[39m \u001b[38;5;241m0\u001b[39m \u001b[38;5;28;01melse\u001b[39;00m \u001b[38;5;241m1\u001b[39m\n\u001b[0;32m     32\u001b[0m metrics[\u001b[38;5;124m'\u001b[39m\u001b[38;5;124mmae\u001b[39m\u001b[38;5;124m'\u001b[39m] \u001b[38;5;241m=\u001b[39m accuracy\u001b[38;5;241m.\u001b[39mmae(predictions)\n\u001b[0;32m     33\u001b[0m metrics[\u001b[38;5;124m'\u001b[39m\u001b[38;5;124mrmse\u001b[39m\u001b[38;5;124m'\u001b[39m] \u001b[38;5;241m=\u001b[39m accuracy\u001b[38;5;241m.\u001b[39mrmse(predictions)\n",
      "\u001b[1;31mKeyboardInterrupt\u001b[0m: "
     ]
    }
   ],
   "source": [
    "predictions_SVD = evaluate_model('SVD', best_SVD['model'], train_data, test_data)"
   ]
  },
  {
   "cell_type": "code",
   "execution_count": null,
   "id": "2b9a9f0a-afe6-4457-a92d-6ef29f249ff8",
   "metadata": {},
   "outputs": [],
   "source": [
    "topN_SVD = get_top_N(anime, predictions_SVD['unbiased_predictions'], user_id=get_user_id(predictions_SVD['unbiased_predictions']))\n",
    "display_top_N(topN_SVD)"
   ]
  },
  {
   "cell_type": "markdown",
   "id": "cffaefde-5764-4a2f-9c55-5536a04276d6",
   "metadata": {
    "jp-MarkdownHeadingCollapsed": true,
    "tags": []
   },
   "source": [
    "#### 6-3-2 - SVDpp\n",
    "SVD++, or SVD with implicit feedback, is an extension of SVD that incorporates additional information about user-item interactions, such as how frequently a user has interacted with an item. "
   ]
  },
  {
   "cell_type": "code",
   "execution_count": null,
   "id": "02dc6ab2-eb07-465f-9fda-b104cf97d867",
   "metadata": {},
   "outputs": [],
   "source": [
    "# Uncomment to test SVDpp\n",
    "# hyper_SVDpp = {\n",
    "#     \"n_factors\": [\"int\", 50, 200],\n",
    "#     \"n_epochs\": [\"int\", 10, 50],\n",
    "#     \"lr_all\": [\"loguniform\", 1e-5, 1e-1],\n",
    "#     \"reg_all\": [\"loguniform\", 1e-5, 1e-1]\n",
    "# }\n",
    "# best_SVDpp = fit_model(data, 'SVDpp', SVDpp, hyper_SVDpp)\n",
    "# predictions_SVDpp = evaluate_model('SVDpp', best_SVDpp['model'], train_data, test_data)\n",
    "# topN_SVDpp = get_top_N(anime, predictions_SVDpp['predictions'], user_id=get_user_id(predictions_SVDpp['predictions']))\n",
    "# display_top_N(topN_SVDpp)"
   ]
  },
  {
   "cell_type": "markdown",
   "id": "84bfdc21-509b-4a29-b677-a8b0f08b1770",
   "metadata": {
    "tags": []
   },
   "source": [
    "###  6-4 - Other algorithms\n",
    "This section of the notebook explores other types of collaborative filtering algorithms."
   ]
  },
  {
   "cell_type": "markdown",
   "id": "a55f2aa4-a4da-4cb5-b274-ae73a1fe3c8d",
   "metadata": {
    "tags": []
   },
   "source": [
    "#### 6-4-1 - Slope One\n",
    "Slope One is a simple collaborative filtering algorithm that uses the difference between item ratings to predict user preferences. It computes the average difference in ratings between pairs of items that have been rated by the same user, and then uses these differences to estimate the missing ratings. This method is fast and scalable, making it a popular choice for recommendation systems."
   ]
  },
  {
   "cell_type": "code",
   "execution_count": null,
   "id": "15f44ee0-4241-4699-a415-90f7219371ee",
   "metadata": {},
   "outputs": [],
   "source": [
    "best_SlopeOne = fit_model(data, 'SlopeOne', SlopeOne)"
   ]
  },
  {
   "cell_type": "code",
   "execution_count": null,
   "id": "02e0fec1-157a-42cc-88dc-642a641edae1",
   "metadata": {},
   "outputs": [],
   "source": [
    "predictions_SlopeOne = evaluate_model('SlopeOne', best_SlopeOne['model'], train_data, test_data)"
   ]
  },
  {
   "cell_type": "code",
   "execution_count": null,
   "id": "37ec8e0e-4361-4de4-b021-f4255690f258",
   "metadata": {},
   "outputs": [],
   "source": [
    "topN_SlopeOne = get_top_N(anime, predictions_SlopeOne['unbiased_predictions'], user_id=get_user_id(predictions_SlopeOne['unbiased_predictions']))\n",
    "display_top_N(topN_SlopeOne)"
   ]
  },
  {
   "cell_type": "markdown",
   "id": "849c5932-4128-413f-a348-a45246334014",
   "metadata": {
    "tags": []
   },
   "source": [
    "#### 6-4-2 - CoClustering\n",
    "CoClustering is a clustering-based collaborative filtering algorithm that groups users and items based on their similarities in ratings. It performs simultaneous clustering of both users and items to identify groups of users who have similar preferences and groups of items that are preferred by similar users. CoClustering works well with sparse data and can effectively capture complex user-item relationships. However, it can be computationally expensive and may not scale well for large datasets."
   ]
  },
  {
   "cell_type": "code",
   "execution_count": null,
   "id": "ee3f4610-ed1d-4079-a214-cc72d655fd05",
   "metadata": {},
   "outputs": [],
   "source": [
    "hyper_CoClustering = {\n",
    "    \"n_cltr_u\": [\"int\", 3, 20],\n",
    "    \"n_cltr_i\": [\"int\", 3, 20],\n",
    "    \"n_epochs\": [\"int\", 10, 50],\n",
    "    \"random_state\": [\"int\", 0, 100],\n",
    "}"
   ]
  },
  {
   "cell_type": "code",
   "execution_count": null,
   "id": "2f702d5f-1bb2-4ead-9fe0-0686d4d36fa0",
   "metadata": {
    "tags": []
   },
   "outputs": [],
   "source": [
    "best_CoClustering = fit_model(data, 'CoClustering', CoClustering, hyper_CoClustering)"
   ]
  },
  {
   "cell_type": "code",
   "execution_count": null,
   "id": "7d41c714-bbdc-40bd-b483-ee2150783a14",
   "metadata": {},
   "outputs": [],
   "source": [
    "predictions_CoClustering = evaluate_model('CoClustering', best_CoClustering['model'], train_data, test_data)"
   ]
  },
  {
   "cell_type": "code",
   "execution_count": null,
   "id": "722a5774-886e-4699-a08a-b288a303d820",
   "metadata": {},
   "outputs": [],
   "source": [
    "topN_CoClustering = get_top_N(anime, predictions_CoClustering['unbiased_predictions'], user_id=get_user_id(predictions_CoClustering['unbiased_predictions']))\n",
    "display_top_N(topN_CoClustering)"
   ]
  },
  {
   "cell_type": "markdown",
   "id": "9b271b59-4775-4d7c-b640-5df4a7be3ffb",
   "metadata": {
    "jp-MarkdownHeadingCollapsed": true,
    "tags": []
   },
   "source": [
    "# 7 - Test on our data\n",
    "Finally we tested our collaborative filtering model on our custom-made dataset. We used the model with the best unbiased RMSE : CoClustering. There is still room for improvement, and further experimentation and tuning could lead to even better results. Overall, this project demonstrated the power of collaborative filtering in generating personalized recommendations based on user behavior, and highlighted some of the key challenges and considerations involved in building and evaluating such models."
   ]
  },
  {
   "cell_type": "code",
   "execution_count": null,
   "id": "f02e46d6-e5d1-495f-a43c-d7218e974c43",
   "metadata": {
    "jupyter": {
     "source_hidden": true
    },
    "tags": []
   },
   "outputs": [],
   "source": [
    "def create_our_dataframe(anime: pd.DataFrame) -> pd.DataFrame:\n",
    "    \"\"\"\n",
    "    Create a DataFrame for our test data containing ratings for selected anime titles.\n",
    "    \n",
    "    Args:\n",
    "    - anime: a Pandas DataFrame containing the anime data\n",
    "    \n",
    "    Returns:\n",
    "    - our_df: a Pandas DataFrame containing the test data for our selected anime titles\n",
    "    \"\"\"\n",
    "    # Filter the anime DataFrame to only include our selected titles\n",
    "    our_anime_id = anime['anime_id'][:500]\n",
    "    # Filter the anime DataFrame to only include our selected titles\n",
    "    our_anime_rating = anime['rating'][:500]\n",
    "    # Create a DataFrame for our test data with user ID 0 and the selected anime titles and ratings\n",
    "    our_df = pd.DataFrame({'user': [0 for i in range(len(our_anime_id))], 'anime_id': our_anime_id, 'rating': our_anime_rating})\n",
    "    \n",
    "    return our_df"
   ]
  },
  {
   "cell_type": "code",
   "execution_count": null,
   "id": "c577b117-3250-4741-9806-f1b63f63d6e5",
   "metadata": {
    "jupyter": {
     "source_hidden": true
    },
    "tags": []
   },
   "outputs": [],
   "source": [
    "def final_prediction(\n",
    "    name: str, \n",
    "    data_to_predict: Dataset\n",
    ") -> list[tuple[int, int, float, float, str]]:\n",
    "    \"\"\"\n",
    "    Makes final predictions on a given dataset using a trained model.\n",
    "\n",
    "    Args:\n",
    "    - name (str): The name of the model to be used for prediction.\n",
    "    - data_to_predict (Dataset): The dataset to be used for prediction.\n",
    "\n",
    "    Returns:\n",
    "    - list[tuple[int, int, float, float, str]]: A list of tuples containing the user ID, item ID, true rating, predicted rating, and additional information.\n",
    "    \"\"\"\n",
    "    # Set the experiment name and model URI\n",
    "    EXPERIMENT_NAME = f\"{EXPERIMENT}-{name}\"\n",
    "    model_uri = f\"models:/{EXPERIMENT_NAME}/production\"\n",
    "    \n",
    "    # Load the model from the model URI\n",
    "    model = mlflow.sklearn.load_model(model_uri)\n",
    "    print(model)\n",
    "    \n",
    "    # Make predictions on the given dataset\n",
    "    predictions = []\n",
    "    for uid, iid, true_r, _ in data_to_predict.raw_ratings:\n",
    "        try:\n",
    "            pred = model.predict(uid, iid, verbose=False)\n",
    "            predictions.append((uid, iid, true_r, pred.est))\n",
    "        except PredictionImpossible:\n",
    "            pass\n",
    "        \n",
    "    predictions = [(uid, iid, true_r, est, '_') for uid, iid, true_r, est in predictions]\n",
    "    \n",
    "    return predictions"
   ]
  },
  {
   "cell_type": "code",
   "execution_count": null,
   "id": "76c3bca5-f329-4305-84df-377ae34de4e5",
   "metadata": {
    "tags": []
   },
   "outputs": [],
   "source": [
    "our_df = create_our_dataframe(anime)\n",
    "our_df.head()"
   ]
  },
  {
   "cell_type": "code",
   "execution_count": null,
   "id": "d098e356-0e71-407f-9863-62b68c00553b",
   "metadata": {
    "tags": []
   },
   "outputs": [],
   "source": [
    "data_to_predict, _, _ = get_rating_data(our_df)"
   ]
  },
  {
   "cell_type": "code",
   "execution_count": null,
   "id": "897f40ba-8d33-431c-aab8-d164384f6ad5",
   "metadata": {
    "tags": []
   },
   "outputs": [],
   "source": [
    "final_prediction = final_prediction('CoClustering', data_to_predict)"
   ]
  },
  {
   "cell_type": "code",
   "execution_count": null,
   "id": "852c6450-0ae8-497d-9b12-6dff53165d73",
   "metadata": {
    "tags": []
   },
   "outputs": [],
   "source": [
    "rolling_stones = get_top_N(anime, final_prediction, 0)\n",
    "display_top_N(rolling_stones)"
   ]
  },
  {
   "cell_type": "markdown",
   "id": "d471e007-7253-4291-b107-c9201d837528",
   "metadata": {},
   "source": [
    "Now we know what to watch!"
   ]
  }
 ],
 "metadata": {
  "kernelspec": {
   "display_name": "Python 3 (ipykernel)",
   "language": "python",
   "name": "python3"
  },
  "language_info": {
   "codemirror_mode": {
    "name": "ipython",
    "version": 3
   },
   "file_extension": ".py",
   "mimetype": "text/x-python",
   "name": "python",
   "nbconvert_exporter": "python",
   "pygments_lexer": "ipython3",
   "version": "3.9.13"
  },
  "toc-autonumbering": false,
  "toc-showcode": false,
  "toc-showmarkdowntxt": false,
  "toc-showtags": false
 },
 "nbformat": 4,
 "nbformat_minor": 5
}
